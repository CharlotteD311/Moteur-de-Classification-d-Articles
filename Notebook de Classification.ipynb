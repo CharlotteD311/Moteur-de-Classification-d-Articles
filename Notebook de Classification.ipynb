{
  "cells": [
    {
      "cell_type": "markdown",
      "id": "i_dvuBF5tOo1",
      "metadata": {
        "id": "i_dvuBF5tOo1"
      },
      "source": [
        "# Préparation du Notebook"
      ]
    },
    {
      "cell_type": "markdown",
      "source": [
        "## Installation et importations des librairies"
      ],
      "metadata": {
        "id": "bWAbb9TqDOw6"
      },
      "id": "bWAbb9TqDOw6"
    },
    {
      "cell_type": "code",
      "execution_count": null,
      "id": "4y5XJHs-1RK-",
      "metadata": {
        "colab": {
          "base_uri": "https://localhost:8080/"
        },
        "id": "4y5XJHs-1RK-",
        "outputId": "bfdf7ffd-d070-4a0b-c141-f9e734dfb0d7"
      },
      "outputs": [
        {
          "output_type": "stream",
          "name": "stdout",
          "text": [
            "Requirement already satisfied: scikeras in /usr/local/lib/python3.10/dist-packages (0.13.0)\n",
            "Collecting keras>=3.2.0 (from scikeras)\n",
            "  Using cached keras-3.3.2-py3-none-any.whl (1.1 MB)\n",
            "Requirement already satisfied: scikit-learn>=1.4.2 in /usr/local/lib/python3.10/dist-packages (from scikeras) (1.4.2)\n",
            "Requirement already satisfied: absl-py in /usr/local/lib/python3.10/dist-packages (from keras>=3.2.0->scikeras) (1.4.0)\n",
            "Requirement already satisfied: numpy in /usr/local/lib/python3.10/dist-packages (from keras>=3.2.0->scikeras) (1.25.2)\n",
            "Requirement already satisfied: rich in /usr/local/lib/python3.10/dist-packages (from keras>=3.2.0->scikeras) (13.7.1)\n",
            "Requirement already satisfied: namex in /usr/local/lib/python3.10/dist-packages (from keras>=3.2.0->scikeras) (0.0.8)\n",
            "Requirement already satisfied: h5py in /usr/local/lib/python3.10/dist-packages (from keras>=3.2.0->scikeras) (3.9.0)\n",
            "Requirement already satisfied: optree in /usr/local/lib/python3.10/dist-packages (from keras>=3.2.0->scikeras) (0.11.0)\n",
            "Requirement already satisfied: ml-dtypes in /usr/local/lib/python3.10/dist-packages (from keras>=3.2.0->scikeras) (0.2.0)\n",
            "Requirement already satisfied: scipy>=1.6.0 in /usr/local/lib/python3.10/dist-packages (from scikit-learn>=1.4.2->scikeras) (1.11.4)\n",
            "Requirement already satisfied: joblib>=1.2.0 in /usr/local/lib/python3.10/dist-packages (from scikit-learn>=1.4.2->scikeras) (1.4.0)\n",
            "Requirement already satisfied: threadpoolctl>=2.0.0 in /usr/local/lib/python3.10/dist-packages (from scikit-learn>=1.4.2->scikeras) (3.4.0)\n",
            "Requirement already satisfied: typing-extensions>=4.0.0 in /usr/local/lib/python3.10/dist-packages (from optree->keras>=3.2.0->scikeras) (4.11.0)\n",
            "Requirement already satisfied: markdown-it-py>=2.2.0 in /usr/local/lib/python3.10/dist-packages (from rich->keras>=3.2.0->scikeras) (3.0.0)\n",
            "Requirement already satisfied: pygments<3.0.0,>=2.13.0 in /usr/local/lib/python3.10/dist-packages (from rich->keras>=3.2.0->scikeras) (2.16.1)\n",
            "Requirement already satisfied: mdurl~=0.1 in /usr/local/lib/python3.10/dist-packages (from markdown-it-py>=2.2.0->rich->keras>=3.2.0->scikeras) (0.1.2)\n",
            "Installing collected packages: keras\n",
            "  Attempting uninstall: keras\n",
            "    Found existing installation: keras 2.15.0\n",
            "    Uninstalling keras-2.15.0:\n",
            "      Successfully uninstalled keras-2.15.0\n",
            "\u001b[31mERROR: pip's dependency resolver does not currently take into account all the packages that are installed. This behaviour is the source of the following dependency conflicts.\n",
            "tensorflow 2.15.0 requires keras<2.16,>=2.15.0, but you have keras 3.3.2 which is incompatible.\u001b[0m\u001b[31m\n",
            "\u001b[0mSuccessfully installed keras-3.3.2\n"
          ]
        }
      ],
      "source": [
        "pip install scikeras"
      ]
    },
    {
      "cell_type": "code",
      "source": [
        "!pip install tensorflow"
      ],
      "metadata": {
        "colab": {
          "base_uri": "https://localhost:8080/"
        },
        "id": "2VAm04-ZJinS",
        "outputId": "3386b68a-002b-444a-fed7-68fd4531d658"
      },
      "id": "2VAm04-ZJinS",
      "execution_count": null,
      "outputs": [
        {
          "output_type": "stream",
          "name": "stdout",
          "text": [
            "Requirement already satisfied: tensorflow in /usr/local/lib/python3.10/dist-packages (2.15.0)\n",
            "Requirement already satisfied: absl-py>=1.0.0 in /usr/local/lib/python3.10/dist-packages (from tensorflow) (1.4.0)\n",
            "Requirement already satisfied: astunparse>=1.6.0 in /usr/local/lib/python3.10/dist-packages (from tensorflow) (1.6.3)\n",
            "Requirement already satisfied: flatbuffers>=23.5.26 in /usr/local/lib/python3.10/dist-packages (from tensorflow) (24.3.25)\n",
            "Requirement already satisfied: gast!=0.5.0,!=0.5.1,!=0.5.2,>=0.2.1 in /usr/local/lib/python3.10/dist-packages (from tensorflow) (0.5.4)\n",
            "Requirement already satisfied: google-pasta>=0.1.1 in /usr/local/lib/python3.10/dist-packages (from tensorflow) (0.2.0)\n",
            "Requirement already satisfied: h5py>=2.9.0 in /usr/local/lib/python3.10/dist-packages (from tensorflow) (3.9.0)\n",
            "Requirement already satisfied: libclang>=13.0.0 in /usr/local/lib/python3.10/dist-packages (from tensorflow) (18.1.1)\n",
            "Requirement already satisfied: ml-dtypes~=0.2.0 in /usr/local/lib/python3.10/dist-packages (from tensorflow) (0.2.0)\n",
            "Requirement already satisfied: numpy<2.0.0,>=1.23.5 in /usr/local/lib/python3.10/dist-packages (from tensorflow) (1.25.2)\n",
            "Requirement already satisfied: opt-einsum>=2.3.2 in /usr/local/lib/python3.10/dist-packages (from tensorflow) (3.3.0)\n",
            "Requirement already satisfied: packaging in /usr/local/lib/python3.10/dist-packages (from tensorflow) (24.0)\n",
            "Requirement already satisfied: protobuf!=4.21.0,!=4.21.1,!=4.21.2,!=4.21.3,!=4.21.4,!=4.21.5,<5.0.0dev,>=3.20.3 in /usr/local/lib/python3.10/dist-packages (from tensorflow) (3.20.3)\n",
            "Requirement already satisfied: setuptools in /usr/local/lib/python3.10/dist-packages (from tensorflow) (67.7.2)\n",
            "Requirement already satisfied: six>=1.12.0 in /usr/local/lib/python3.10/dist-packages (from tensorflow) (1.16.0)\n",
            "Requirement already satisfied: termcolor>=1.1.0 in /usr/local/lib/python3.10/dist-packages (from tensorflow) (2.4.0)\n",
            "Requirement already satisfied: typing-extensions>=3.6.6 in /usr/local/lib/python3.10/dist-packages (from tensorflow) (4.11.0)\n",
            "Requirement already satisfied: wrapt<1.15,>=1.11.0 in /usr/local/lib/python3.10/dist-packages (from tensorflow) (1.14.1)\n",
            "Requirement already satisfied: tensorflow-io-gcs-filesystem>=0.23.1 in /usr/local/lib/python3.10/dist-packages (from tensorflow) (0.36.0)\n",
            "Requirement already satisfied: grpcio<2.0,>=1.24.3 in /usr/local/lib/python3.10/dist-packages (from tensorflow) (1.62.2)\n",
            "Requirement already satisfied: tensorboard<2.16,>=2.15 in /usr/local/lib/python3.10/dist-packages (from tensorflow) (2.15.2)\n",
            "Requirement already satisfied: tensorflow-estimator<2.16,>=2.15.0 in /usr/local/lib/python3.10/dist-packages (from tensorflow) (2.15.0)\n",
            "Collecting keras<2.16,>=2.15.0 (from tensorflow)\n",
            "  Using cached keras-2.15.0-py3-none-any.whl (1.7 MB)\n",
            "Requirement already satisfied: wheel<1.0,>=0.23.0 in /usr/local/lib/python3.10/dist-packages (from astunparse>=1.6.0->tensorflow) (0.43.0)\n",
            "Requirement already satisfied: google-auth<3,>=1.6.3 in /usr/local/lib/python3.10/dist-packages (from tensorboard<2.16,>=2.15->tensorflow) (2.27.0)\n",
            "Requirement already satisfied: google-auth-oauthlib<2,>=0.5 in /usr/local/lib/python3.10/dist-packages (from tensorboard<2.16,>=2.15->tensorflow) (1.2.0)\n",
            "Requirement already satisfied: markdown>=2.6.8 in /usr/local/lib/python3.10/dist-packages (from tensorboard<2.16,>=2.15->tensorflow) (3.6)\n",
            "Requirement already satisfied: requests<3,>=2.21.0 in /usr/local/lib/python3.10/dist-packages (from tensorboard<2.16,>=2.15->tensorflow) (2.31.0)\n",
            "Requirement already satisfied: tensorboard-data-server<0.8.0,>=0.7.0 in /usr/local/lib/python3.10/dist-packages (from tensorboard<2.16,>=2.15->tensorflow) (0.7.2)\n",
            "Requirement already satisfied: werkzeug>=1.0.1 in /usr/local/lib/python3.10/dist-packages (from tensorboard<2.16,>=2.15->tensorflow) (3.0.2)\n",
            "Requirement already satisfied: cachetools<6.0,>=2.0.0 in /usr/local/lib/python3.10/dist-packages (from google-auth<3,>=1.6.3->tensorboard<2.16,>=2.15->tensorflow) (5.3.3)\n",
            "Requirement already satisfied: pyasn1-modules>=0.2.1 in /usr/local/lib/python3.10/dist-packages (from google-auth<3,>=1.6.3->tensorboard<2.16,>=2.15->tensorflow) (0.4.0)\n",
            "Requirement already satisfied: rsa<5,>=3.1.4 in /usr/local/lib/python3.10/dist-packages (from google-auth<3,>=1.6.3->tensorboard<2.16,>=2.15->tensorflow) (4.9)\n",
            "Requirement already satisfied: requests-oauthlib>=0.7.0 in /usr/local/lib/python3.10/dist-packages (from google-auth-oauthlib<2,>=0.5->tensorboard<2.16,>=2.15->tensorflow) (1.3.1)\n",
            "Requirement already satisfied: charset-normalizer<4,>=2 in /usr/local/lib/python3.10/dist-packages (from requests<3,>=2.21.0->tensorboard<2.16,>=2.15->tensorflow) (3.3.2)\n",
            "Requirement already satisfied: idna<4,>=2.5 in /usr/local/lib/python3.10/dist-packages (from requests<3,>=2.21.0->tensorboard<2.16,>=2.15->tensorflow) (3.7)\n",
            "Requirement already satisfied: urllib3<3,>=1.21.1 in /usr/local/lib/python3.10/dist-packages (from requests<3,>=2.21.0->tensorboard<2.16,>=2.15->tensorflow) (2.0.7)\n",
            "Requirement already satisfied: certifi>=2017.4.17 in /usr/local/lib/python3.10/dist-packages (from requests<3,>=2.21.0->tensorboard<2.16,>=2.15->tensorflow) (2024.2.2)\n",
            "Requirement already satisfied: MarkupSafe>=2.1.1 in /usr/local/lib/python3.10/dist-packages (from werkzeug>=1.0.1->tensorboard<2.16,>=2.15->tensorflow) (2.1.5)\n",
            "Requirement already satisfied: pyasn1<0.7.0,>=0.4.6 in /usr/local/lib/python3.10/dist-packages (from pyasn1-modules>=0.2.1->google-auth<3,>=1.6.3->tensorboard<2.16,>=2.15->tensorflow) (0.6.0)\n",
            "Requirement already satisfied: oauthlib>=3.0.0 in /usr/local/lib/python3.10/dist-packages (from requests-oauthlib>=0.7.0->google-auth-oauthlib<2,>=0.5->tensorboard<2.16,>=2.15->tensorflow) (3.2.2)\n",
            "Installing collected packages: keras\n",
            "  Attempting uninstall: keras\n",
            "    Found existing installation: keras 3.3.2\n",
            "    Uninstalling keras-3.3.2:\n",
            "      Successfully uninstalled keras-3.3.2\n",
            "\u001b[31mERROR: pip's dependency resolver does not currently take into account all the packages that are installed. This behaviour is the source of the following dependency conflicts.\n",
            "scikeras 0.13.0 requires keras>=3.2.0, but you have keras 2.15.0 which is incompatible.\u001b[0m\u001b[31m\n",
            "\u001b[0mSuccessfully installed keras-2.15.0\n"
          ]
        }
      ]
    },
    {
      "cell_type": "code",
      "source": [
        "!pip install optuna"
      ],
      "metadata": {
        "colab": {
          "base_uri": "https://localhost:8080/"
        },
        "id": "WR11FvYJfIhH",
        "outputId": "a84123ec-1e82-4bb5-a2b0-66ab8795821d"
      },
      "id": "WR11FvYJfIhH",
      "execution_count": null,
      "outputs": [
        {
          "output_type": "stream",
          "name": "stdout",
          "text": [
            "Requirement already satisfied: optuna in /usr/local/lib/python3.10/dist-packages (3.6.1)\n",
            "Requirement already satisfied: alembic>=1.5.0 in /usr/local/lib/python3.10/dist-packages (from optuna) (1.13.1)\n",
            "Requirement already satisfied: colorlog in /usr/local/lib/python3.10/dist-packages (from optuna) (6.8.2)\n",
            "Requirement already satisfied: numpy in /usr/local/lib/python3.10/dist-packages (from optuna) (1.25.2)\n",
            "Requirement already satisfied: packaging>=20.0 in /usr/local/lib/python3.10/dist-packages (from optuna) (24.0)\n",
            "Requirement already satisfied: sqlalchemy>=1.3.0 in /usr/local/lib/python3.10/dist-packages (from optuna) (2.0.29)\n",
            "Requirement already satisfied: tqdm in /usr/local/lib/python3.10/dist-packages (from optuna) (4.66.2)\n",
            "Requirement already satisfied: PyYAML in /usr/local/lib/python3.10/dist-packages (from optuna) (6.0.1)\n",
            "Requirement already satisfied: Mako in /usr/local/lib/python3.10/dist-packages (from alembic>=1.5.0->optuna) (1.3.3)\n",
            "Requirement already satisfied: typing-extensions>=4 in /usr/local/lib/python3.10/dist-packages (from alembic>=1.5.0->optuna) (4.11.0)\n",
            "Requirement already satisfied: greenlet!=0.4.17 in /usr/local/lib/python3.10/dist-packages (from sqlalchemy>=1.3.0->optuna) (3.0.3)\n",
            "Requirement already satisfied: MarkupSafe>=0.9.2 in /usr/local/lib/python3.10/dist-packages (from Mako->alembic>=1.5.0->optuna) (2.1.5)\n"
          ]
        }
      ]
    },
    {
      "cell_type": "code",
      "execution_count": null,
      "id": "e5a5c93b-e638-45c7-a763-d660832e3ecd",
      "metadata": {
        "colab": {
          "base_uri": "https://localhost:8080/"
        },
        "id": "e5a5c93b-e638-45c7-a763-d660832e3ecd",
        "outputId": "434a1043-2b4c-4397-f4d7-20953d3571c5"
      },
      "outputs": [
        {
          "output_type": "stream",
          "name": "stderr",
          "text": [
            "[nltk_data] Downloading package punkt to /root/nltk_data...\n",
            "[nltk_data]   Package punkt is already up-to-date!\n",
            "[nltk_data] Downloading package stopwords to /root/nltk_data...\n",
            "[nltk_data]   Package stopwords is already up-to-date!\n"
          ]
        },
        {
          "output_type": "stream",
          "name": "stdout",
          "text": [
            "Drive already mounted at /content/drive; to attempt to forcibly remount, call drive.mount(\"/content/drive\", force_remount=True).\n"
          ]
        }
      ],
      "source": [
        "import pandas as pd\n",
        "import matplotlib.pyplot as plt\n",
        "import numpy as np\n",
        "import seaborn as sns\n",
        "\n",
        "import matplotlib.image as mpimg\n",
        "import os\n",
        "import cv2\n",
        "import torch\n",
        "import re\n",
        "import string\n",
        "import logging\n",
        "import time\n",
        "\n",
        "import spacy\n",
        "from tqdm import tqdm\n",
        "import tensorflow as tf\n",
        "\n",
        "from PIL import Image\n",
        "\n",
        "from sklearn.decomposition import PCA\n",
        "from sklearn.preprocessing import LabelEncoder\n",
        "from sklearn.decomposition import TruncatedSVD\n",
        "from sklearn.manifold import TSNE\n",
        "from sklearn.metrics import classification_report\n",
        "from sklearn.metrics import confusion_matrix\n",
        "from sklearn import metrics\n",
        "from sklearn.model_selection import train_test_split\n",
        "from sklearn.model_selection import cross_val_score\n",
        "from sklearn.datasets import make_classification\n",
        "\n",
        "from tensorflow.keras.preprocessing.image import load_img, img_to_array\n",
        "from tensorflow.keras.applications.vgg16 import preprocess_input\n",
        "from tensorflow.keras.utils import to_categorical\n",
        "from tensorflow.keras.applications import VGG16\n",
        "from tensorflow.keras.layers import GlobalAveragePooling2D, Dense, Dropout\n",
        "from tensorflow.keras.models import Model\n",
        "from tensorflow.keras.callbacks import ModelCheckpoint, EarlyStopping\n",
        "from tensorflow.keras.preprocessing.image import ImageDataGenerator\n",
        "from tensorflow.keras.models import Sequential\n",
        "from tensorflow.keras.layers import Flatten, Dense, BatchNormalization, Dropout\n",
        "from tensorflow.keras.optimizers import Adam\n",
        "from tensorflow.keras.layers import Conv2D, MaxPooling2D\n",
        "from tensorflow.keras.layers import LeakyReLU\n",
        "from tensorflow.keras.losses import categorical_crossentropy\n",
        "\n",
        "from scikeras.wrappers import KerasClassifier\n",
        "\n",
        "import optuna\n",
        "\n",
        "\n",
        "from google.colab import files, drive\n",
        "drive.mount('/content/drive')"
      ]
    },
    {
      "cell_type": "code",
      "execution_count": null,
      "id": "b92ac4b2-1c97-4c40-834a-08082db804cf",
      "metadata": {
        "id": "b92ac4b2-1c97-4c40-834a-08082db804cf"
      },
      "outputs": [],
      "source": [
        "path = '/content/drive/My Drive/df_img.csv'\n",
        "df = pd.read_csv(path)"
      ]
    },
    {
      "cell_type": "markdown",
      "id": "sP12l29QtYSY",
      "metadata": {
        "id": "sP12l29QtYSY"
      },
      "source": [
        "# Aperçu du jeu de données"
      ]
    },
    {
      "cell_type": "code",
      "execution_count": null,
      "id": "0e03c02d-4360-4e01-a096-454d3416d359",
      "metadata": {
        "colab": {
          "base_uri": "https://localhost:8080/",
          "height": 424
        },
        "id": "0e03c02d-4360-4e01-a096-454d3416d359",
        "outputId": "d7bc6efb-edbb-49dc-ade0-09bf766a7ab9"
      },
      "outputs": [
        {
          "output_type": "execute_result",
          "data": {
            "text/plain": [
              "                                             image_path  \\\n",
              "0     /content/drive/My Drive/Data/Flipkart/Images/0...   \n",
              "1     /content/drive/My Drive/Data/Flipkart/Images/0...   \n",
              "2     /content/drive/My Drive/Data/Flipkart/Images/0...   \n",
              "3     /content/drive/My Drive/Data/Flipkart/Images/0...   \n",
              "4     /content/drive/My Drive/Data/Flipkart/Images/0...   \n",
              "...                                                 ...   \n",
              "1045  /content/drive/My Drive/Data/Flipkart/Images/0...   \n",
              "1046  /content/drive/My Drive/Data/Flipkart/Images/0...   \n",
              "1047  /content/drive/My Drive/Data/Flipkart/Images/0...   \n",
              "1048  /content/drive/My Drive/Data/Flipkart/Images/0...   \n",
              "1049  /content/drive/My Drive/Data/Flipkart/Images/0...   \n",
              "\n",
              "                                     image          category_product  \n",
              "0     0c4718ae90f2889b7021a99ee1cc106c.jpg            kitchen dining  \n",
              "1     0c70a580d96e50966130e2885d8c3505.jpg            kitchen dining  \n",
              "2     0ca8e323551dd7107ef57ef7c3e77aee.jpg            kitchen dining  \n",
              "3     0d02f4703fde00645704e15bba23e77d.jpg                 computers  \n",
              "4     0d3e1dc0d38be59e9927e47f152e48aa.jpg            kitchen dining  \n",
              "...                                    ...                       ...  \n",
              "1045  0b793c1727ef52285a25dedf8b86626b.jpg  beauty and personal care  \n",
              "1046  0b852704f2002f8865a68818ad4951da.jpg            kitchen dining  \n",
              "1047  0b8c4bc35aee94af356cb1fd2dfa0219.jpg            kitchen dining  \n",
              "1048  0bb0f7b7a3075f4b9459121abe2185fa.jpg  home decor festive needs  \n",
              "1049  0bff0eda7a6677dc1acb0477a1f7a121.jpg                 baby care  \n",
              "\n",
              "[1050 rows x 3 columns]"
            ],
            "text/html": [
              "\n",
              "  <div id=\"df-2c270651-cc9f-4599-a067-56f75c571da2\" class=\"colab-df-container\">\n",
              "    <div>\n",
              "<style scoped>\n",
              "    .dataframe tbody tr th:only-of-type {\n",
              "        vertical-align: middle;\n",
              "    }\n",
              "\n",
              "    .dataframe tbody tr th {\n",
              "        vertical-align: top;\n",
              "    }\n",
              "\n",
              "    .dataframe thead th {\n",
              "        text-align: right;\n",
              "    }\n",
              "</style>\n",
              "<table border=\"1\" class=\"dataframe\">\n",
              "  <thead>\n",
              "    <tr style=\"text-align: right;\">\n",
              "      <th></th>\n",
              "      <th>image_path</th>\n",
              "      <th>image</th>\n",
              "      <th>category_product</th>\n",
              "    </tr>\n",
              "  </thead>\n",
              "  <tbody>\n",
              "    <tr>\n",
              "      <th>0</th>\n",
              "      <td>/content/drive/My Drive/Data/Flipkart/Images/0...</td>\n",
              "      <td>0c4718ae90f2889b7021a99ee1cc106c.jpg</td>\n",
              "      <td>kitchen dining</td>\n",
              "    </tr>\n",
              "    <tr>\n",
              "      <th>1</th>\n",
              "      <td>/content/drive/My Drive/Data/Flipkart/Images/0...</td>\n",
              "      <td>0c70a580d96e50966130e2885d8c3505.jpg</td>\n",
              "      <td>kitchen dining</td>\n",
              "    </tr>\n",
              "    <tr>\n",
              "      <th>2</th>\n",
              "      <td>/content/drive/My Drive/Data/Flipkart/Images/0...</td>\n",
              "      <td>0ca8e323551dd7107ef57ef7c3e77aee.jpg</td>\n",
              "      <td>kitchen dining</td>\n",
              "    </tr>\n",
              "    <tr>\n",
              "      <th>3</th>\n",
              "      <td>/content/drive/My Drive/Data/Flipkart/Images/0...</td>\n",
              "      <td>0d02f4703fde00645704e15bba23e77d.jpg</td>\n",
              "      <td>computers</td>\n",
              "    </tr>\n",
              "    <tr>\n",
              "      <th>4</th>\n",
              "      <td>/content/drive/My Drive/Data/Flipkart/Images/0...</td>\n",
              "      <td>0d3e1dc0d38be59e9927e47f152e48aa.jpg</td>\n",
              "      <td>kitchen dining</td>\n",
              "    </tr>\n",
              "    <tr>\n",
              "      <th>...</th>\n",
              "      <td>...</td>\n",
              "      <td>...</td>\n",
              "      <td>...</td>\n",
              "    </tr>\n",
              "    <tr>\n",
              "      <th>1045</th>\n",
              "      <td>/content/drive/My Drive/Data/Flipkart/Images/0...</td>\n",
              "      <td>0b793c1727ef52285a25dedf8b86626b.jpg</td>\n",
              "      <td>beauty and personal care</td>\n",
              "    </tr>\n",
              "    <tr>\n",
              "      <th>1046</th>\n",
              "      <td>/content/drive/My Drive/Data/Flipkart/Images/0...</td>\n",
              "      <td>0b852704f2002f8865a68818ad4951da.jpg</td>\n",
              "      <td>kitchen dining</td>\n",
              "    </tr>\n",
              "    <tr>\n",
              "      <th>1047</th>\n",
              "      <td>/content/drive/My Drive/Data/Flipkart/Images/0...</td>\n",
              "      <td>0b8c4bc35aee94af356cb1fd2dfa0219.jpg</td>\n",
              "      <td>kitchen dining</td>\n",
              "    </tr>\n",
              "    <tr>\n",
              "      <th>1048</th>\n",
              "      <td>/content/drive/My Drive/Data/Flipkart/Images/0...</td>\n",
              "      <td>0bb0f7b7a3075f4b9459121abe2185fa.jpg</td>\n",
              "      <td>home decor festive needs</td>\n",
              "    </tr>\n",
              "    <tr>\n",
              "      <th>1049</th>\n",
              "      <td>/content/drive/My Drive/Data/Flipkart/Images/0...</td>\n",
              "      <td>0bff0eda7a6677dc1acb0477a1f7a121.jpg</td>\n",
              "      <td>baby care</td>\n",
              "    </tr>\n",
              "  </tbody>\n",
              "</table>\n",
              "<p>1050 rows × 3 columns</p>\n",
              "</div>\n",
              "    <div class=\"colab-df-buttons\">\n",
              "\n",
              "  <div class=\"colab-df-container\">\n",
              "    <button class=\"colab-df-convert\" onclick=\"convertToInteractive('df-2c270651-cc9f-4599-a067-56f75c571da2')\"\n",
              "            title=\"Convert this dataframe to an interactive table.\"\n",
              "            style=\"display:none;\">\n",
              "\n",
              "  <svg xmlns=\"http://www.w3.org/2000/svg\" height=\"24px\" viewBox=\"0 -960 960 960\">\n",
              "    <path d=\"M120-120v-720h720v720H120Zm60-500h600v-160H180v160Zm220 220h160v-160H400v160Zm0 220h160v-160H400v160ZM180-400h160v-160H180v160Zm440 0h160v-160H620v160ZM180-180h160v-160H180v160Zm440 0h160v-160H620v160Z\"/>\n",
              "  </svg>\n",
              "    </button>\n",
              "\n",
              "  <style>\n",
              "    .colab-df-container {\n",
              "      display:flex;\n",
              "      gap: 12px;\n",
              "    }\n",
              "\n",
              "    .colab-df-convert {\n",
              "      background-color: #E8F0FE;\n",
              "      border: none;\n",
              "      border-radius: 50%;\n",
              "      cursor: pointer;\n",
              "      display: none;\n",
              "      fill: #1967D2;\n",
              "      height: 32px;\n",
              "      padding: 0 0 0 0;\n",
              "      width: 32px;\n",
              "    }\n",
              "\n",
              "    .colab-df-convert:hover {\n",
              "      background-color: #E2EBFA;\n",
              "      box-shadow: 0px 1px 2px rgba(60, 64, 67, 0.3), 0px 1px 3px 1px rgba(60, 64, 67, 0.15);\n",
              "      fill: #174EA6;\n",
              "    }\n",
              "\n",
              "    .colab-df-buttons div {\n",
              "      margin-bottom: 4px;\n",
              "    }\n",
              "\n",
              "    [theme=dark] .colab-df-convert {\n",
              "      background-color: #3B4455;\n",
              "      fill: #D2E3FC;\n",
              "    }\n",
              "\n",
              "    [theme=dark] .colab-df-convert:hover {\n",
              "      background-color: #434B5C;\n",
              "      box-shadow: 0px 1px 3px 1px rgba(0, 0, 0, 0.15);\n",
              "      filter: drop-shadow(0px 1px 2px rgba(0, 0, 0, 0.3));\n",
              "      fill: #FFFFFF;\n",
              "    }\n",
              "  </style>\n",
              "\n",
              "    <script>\n",
              "      const buttonEl =\n",
              "        document.querySelector('#df-2c270651-cc9f-4599-a067-56f75c571da2 button.colab-df-convert');\n",
              "      buttonEl.style.display =\n",
              "        google.colab.kernel.accessAllowed ? 'block' : 'none';\n",
              "\n",
              "      async function convertToInteractive(key) {\n",
              "        const element = document.querySelector('#df-2c270651-cc9f-4599-a067-56f75c571da2');\n",
              "        const dataTable =\n",
              "          await google.colab.kernel.invokeFunction('convertToInteractive',\n",
              "                                                    [key], {});\n",
              "        if (!dataTable) return;\n",
              "\n",
              "        const docLinkHtml = 'Like what you see? Visit the ' +\n",
              "          '<a target=\"_blank\" href=https://colab.research.google.com/notebooks/data_table.ipynb>data table notebook</a>'\n",
              "          + ' to learn more about interactive tables.';\n",
              "        element.innerHTML = '';\n",
              "        dataTable['output_type'] = 'display_data';\n",
              "        await google.colab.output.renderOutput(dataTable, element);\n",
              "        const docLink = document.createElement('div');\n",
              "        docLink.innerHTML = docLinkHtml;\n",
              "        element.appendChild(docLink);\n",
              "      }\n",
              "    </script>\n",
              "  </div>\n",
              "\n",
              "\n",
              "<div id=\"df-cd51cb3d-146d-451e-9c56-9f9faff12544\">\n",
              "  <button class=\"colab-df-quickchart\" onclick=\"quickchart('df-cd51cb3d-146d-451e-9c56-9f9faff12544')\"\n",
              "            title=\"Suggest charts\"\n",
              "            style=\"display:none;\">\n",
              "\n",
              "<svg xmlns=\"http://www.w3.org/2000/svg\" height=\"24px\"viewBox=\"0 0 24 24\"\n",
              "     width=\"24px\">\n",
              "    <g>\n",
              "        <path d=\"M19 3H5c-1.1 0-2 .9-2 2v14c0 1.1.9 2 2 2h14c1.1 0 2-.9 2-2V5c0-1.1-.9-2-2-2zM9 17H7v-7h2v7zm4 0h-2V7h2v10zm4 0h-2v-4h2v4z\"/>\n",
              "    </g>\n",
              "</svg>\n",
              "  </button>\n",
              "\n",
              "<style>\n",
              "  .colab-df-quickchart {\n",
              "      --bg-color: #E8F0FE;\n",
              "      --fill-color: #1967D2;\n",
              "      --hover-bg-color: #E2EBFA;\n",
              "      --hover-fill-color: #174EA6;\n",
              "      --disabled-fill-color: #AAA;\n",
              "      --disabled-bg-color: #DDD;\n",
              "  }\n",
              "\n",
              "  [theme=dark] .colab-df-quickchart {\n",
              "      --bg-color: #3B4455;\n",
              "      --fill-color: #D2E3FC;\n",
              "      --hover-bg-color: #434B5C;\n",
              "      --hover-fill-color: #FFFFFF;\n",
              "      --disabled-bg-color: #3B4455;\n",
              "      --disabled-fill-color: #666;\n",
              "  }\n",
              "\n",
              "  .colab-df-quickchart {\n",
              "    background-color: var(--bg-color);\n",
              "    border: none;\n",
              "    border-radius: 50%;\n",
              "    cursor: pointer;\n",
              "    display: none;\n",
              "    fill: var(--fill-color);\n",
              "    height: 32px;\n",
              "    padding: 0;\n",
              "    width: 32px;\n",
              "  }\n",
              "\n",
              "  .colab-df-quickchart:hover {\n",
              "    background-color: var(--hover-bg-color);\n",
              "    box-shadow: 0 1px 2px rgba(60, 64, 67, 0.3), 0 1px 3px 1px rgba(60, 64, 67, 0.15);\n",
              "    fill: var(--button-hover-fill-color);\n",
              "  }\n",
              "\n",
              "  .colab-df-quickchart-complete:disabled,\n",
              "  .colab-df-quickchart-complete:disabled:hover {\n",
              "    background-color: var(--disabled-bg-color);\n",
              "    fill: var(--disabled-fill-color);\n",
              "    box-shadow: none;\n",
              "  }\n",
              "\n",
              "  .colab-df-spinner {\n",
              "    border: 2px solid var(--fill-color);\n",
              "    border-color: transparent;\n",
              "    border-bottom-color: var(--fill-color);\n",
              "    animation:\n",
              "      spin 1s steps(1) infinite;\n",
              "  }\n",
              "\n",
              "  @keyframes spin {\n",
              "    0% {\n",
              "      border-color: transparent;\n",
              "      border-bottom-color: var(--fill-color);\n",
              "      border-left-color: var(--fill-color);\n",
              "    }\n",
              "    20% {\n",
              "      border-color: transparent;\n",
              "      border-left-color: var(--fill-color);\n",
              "      border-top-color: var(--fill-color);\n",
              "    }\n",
              "    30% {\n",
              "      border-color: transparent;\n",
              "      border-left-color: var(--fill-color);\n",
              "      border-top-color: var(--fill-color);\n",
              "      border-right-color: var(--fill-color);\n",
              "    }\n",
              "    40% {\n",
              "      border-color: transparent;\n",
              "      border-right-color: var(--fill-color);\n",
              "      border-top-color: var(--fill-color);\n",
              "    }\n",
              "    60% {\n",
              "      border-color: transparent;\n",
              "      border-right-color: var(--fill-color);\n",
              "    }\n",
              "    80% {\n",
              "      border-color: transparent;\n",
              "      border-right-color: var(--fill-color);\n",
              "      border-bottom-color: var(--fill-color);\n",
              "    }\n",
              "    90% {\n",
              "      border-color: transparent;\n",
              "      border-bottom-color: var(--fill-color);\n",
              "    }\n",
              "  }\n",
              "</style>\n",
              "\n",
              "  <script>\n",
              "    async function quickchart(key) {\n",
              "      const quickchartButtonEl =\n",
              "        document.querySelector('#' + key + ' button');\n",
              "      quickchartButtonEl.disabled = true;  // To prevent multiple clicks.\n",
              "      quickchartButtonEl.classList.add('colab-df-spinner');\n",
              "      try {\n",
              "        const charts = await google.colab.kernel.invokeFunction(\n",
              "            'suggestCharts', [key], {});\n",
              "      } catch (error) {\n",
              "        console.error('Error during call to suggestCharts:', error);\n",
              "      }\n",
              "      quickchartButtonEl.classList.remove('colab-df-spinner');\n",
              "      quickchartButtonEl.classList.add('colab-df-quickchart-complete');\n",
              "    }\n",
              "    (() => {\n",
              "      let quickchartButtonEl =\n",
              "        document.querySelector('#df-cd51cb3d-146d-451e-9c56-9f9faff12544 button');\n",
              "      quickchartButtonEl.style.display =\n",
              "        google.colab.kernel.accessAllowed ? 'block' : 'none';\n",
              "    })();\n",
              "  </script>\n",
              "</div>\n",
              "    </div>\n",
              "  </div>\n"
            ],
            "application/vnd.google.colaboratory.intrinsic+json": {
              "type": "dataframe",
              "variable_name": "df",
              "summary": "{\n  \"name\": \"df\",\n  \"rows\": 1050,\n  \"fields\": [\n    {\n      \"column\": \"image_path\",\n      \"properties\": {\n        \"dtype\": \"string\",\n        \"num_unique_values\": 1050,\n        \"samples\": [\n          \"/content/drive/My Drive/Data/Flipkart/Images/64a9d0488652194fd8e879d5e6dc8015.jpg\",\n          \"/content/drive/My Drive/Data/Flipkart/Images/aeb421e416716d5f037d50e8c3b14cd7.jpg\",\n          \"/content/drive/My Drive/Data/Flipkart/Images/80e9cb3d2d7f9ff7bc497c34df366d03.jpg\"\n        ],\n        \"semantic_type\": \"\",\n        \"description\": \"\"\n      }\n    },\n    {\n      \"column\": \"image\",\n      \"properties\": {\n        \"dtype\": \"string\",\n        \"num_unique_values\": 1050,\n        \"samples\": [\n          \"64a9d0488652194fd8e879d5e6dc8015.jpg\",\n          \"aeb421e416716d5f037d50e8c3b14cd7.jpg\",\n          \"80e9cb3d2d7f9ff7bc497c34df366d03.jpg\"\n        ],\n        \"semantic_type\": \"\",\n        \"description\": \"\"\n      }\n    },\n    {\n      \"column\": \"category_product\",\n      \"properties\": {\n        \"dtype\": \"category\",\n        \"num_unique_values\": 7,\n        \"samples\": [\n          \"kitchen dining\",\n          \"computers\",\n          \"home decor festive needs\"\n        ],\n        \"semantic_type\": \"\",\n        \"description\": \"\"\n      }\n    }\n  ]\n}"
            }
          },
          "metadata": {},
          "execution_count": 6
        }
      ],
      "source": [
        "df"
      ]
    },
    {
      "cell_type": "markdown",
      "id": "1e5ac358-d74d-49cd-bb9c-5be0e8181bfe",
      "metadata": {
        "id": "1e5ac358-d74d-49cd-bb9c-5be0e8181bfe"
      },
      "source": [
        "## Rappels des catégories"
      ]
    },
    {
      "cell_type": "code",
      "execution_count": null,
      "id": "00335926-f3e3-4812-8836-eda3d602d5a6",
      "metadata": {
        "colab": {
          "base_uri": "https://localhost:8080/"
        },
        "id": "00335926-f3e3-4812-8836-eda3d602d5a6",
        "outputId": "aa61b312-6f0b-45ed-dd8f-10716554cb06"
      },
      "outputs": [
        {
          "output_type": "execute_result",
          "data": {
            "text/plain": [
              "7"
            ]
          },
          "metadata": {},
          "execution_count": 7
        }
      ],
      "source": [
        "df['category_product'].nunique()"
      ]
    },
    {
      "cell_type": "code",
      "execution_count": null,
      "id": "6d79520a-596d-4bfb-80e9-8f6c429fd0a1",
      "metadata": {
        "colab": {
          "base_uri": "https://localhost:8080/"
        },
        "id": "6d79520a-596d-4bfb-80e9-8f6c429fd0a1",
        "outputId": "b15cea63-20ec-4e3f-b254-ebedb4078470"
      },
      "outputs": [
        {
          "output_type": "execute_result",
          "data": {
            "text/plain": [
              "category_product\n",
              "kitchen dining              150\n",
              "computers                   150\n",
              "watches                     150\n",
              "beauty and personal care    150\n",
              "home furnishing             150\n",
              "home decor festive needs    150\n",
              "baby care                   150\n",
              "Name: count, dtype: int64"
            ]
          },
          "metadata": {},
          "execution_count": 8
        }
      ],
      "source": [
        "df['category_product'].value_counts()"
      ]
    },
    {
      "cell_type": "markdown",
      "id": "obDthxGqt1Ih",
      "metadata": {
        "id": "obDthxGqt1Ih"
      },
      "source": [
        "# Préparation des données"
      ]
    },
    {
      "cell_type": "code",
      "execution_count": null,
      "id": "uotPJJfMyapN",
      "metadata": {
        "id": "uotPJJfMyapN"
      },
      "outputs": [],
      "source": [
        "# Augmentation de la limite par défaut\n",
        "Image.MAX_IMAGE_PIXELS = None"
      ]
    },
    {
      "cell_type": "code",
      "execution_count": null,
      "id": "b17921c8-d23f-4a16-9bc1-a29e9188a94b",
      "metadata": {
        "colab": {
          "base_uri": "https://localhost:8080/"
        },
        "id": "b17921c8-d23f-4a16-9bc1-a29e9188a94b",
        "outputId": "bf5bdb48-7dfd-4406-9fef-e2343531e853"
      },
      "outputs": [
        {
          "output_type": "stream",
          "name": "stdout",
          "text": [
            "(1050, 224, 224, 3)\n"
          ]
        }
      ],
      "source": [
        "# Chargement, préparation de X  (images)\n",
        "\n",
        "def image_prep_fct(df):\n",
        "    base_image_path = '/content/drive/My Drive/Flipkart/Images'\n",
        "\n",
        "    prepared_images = []\n",
        "    for image_name in df['image']:\n",
        "        image_path = os.path.join(base_image_path, image_name)\n",
        "\n",
        "        img = load_img(image_path, target_size=(224, 224))\n",
        "        img = img_to_array(img)\n",
        "        img = img.reshape((img.shape[0], img.shape[1], img.shape[2]))\n",
        "        img = preprocess_input(img)\n",
        "        prepared_images.append(img)\n",
        "\n",
        "    prepared_images_np = np.array(prepared_images)\n",
        "    return prepared_images_np\n",
        "\n",
        "images_np = image_prep_fct(df)\n",
        "X = images_np\n",
        "print(X.shape)"
      ]
    },
    {
      "cell_type": "code",
      "execution_count": null,
      "id": "88205833-8830-4371-8481-ef60252bc99f",
      "metadata": {
        "id": "88205833-8830-4371-8481-ef60252bc99f",
        "colab": {
          "base_uri": "https://localhost:8080/"
        },
        "outputId": "6fc8918c-aa3a-4c67-f3a6-8a7988ae2db7"
      },
      "outputs": [
        {
          "output_type": "stream",
          "name": "stdout",
          "text": [
            "(1050, 7)\n",
            "[[0. 0. 0. ... 0. 1. 0.]\n",
            " [0. 0. 0. ... 0. 1. 0.]\n",
            " [0. 0. 0. ... 0. 1. 0.]\n",
            " ...\n",
            " [0. 0. 0. ... 0. 1. 0.]\n",
            " [0. 0. 0. ... 0. 0. 0.]\n",
            " [1. 0. 0. ... 0. 0. 0.]]\n"
          ]
        }
      ],
      "source": [
        "# Préparation y\n",
        "label_encoder = LabelEncoder()\n",
        "y_encoded = label_encoder.fit_transform(df['category_product'])\n",
        "y = to_categorical(y_encoded)\n",
        "\n",
        "print(y.shape)\n",
        "print(y)"
      ]
    },
    {
      "cell_type": "code",
      "execution_count": null,
      "id": "65767d72-67d1-47fd-805c-85bb57ee84aa",
      "metadata": {
        "id": "65767d72-67d1-47fd-805c-85bb57ee84aa",
        "colab": {
          "base_uri": "https://localhost:8080/"
        },
        "outputId": "68627183-ded7-4970-cd27-4accdf0d763b"
      },
      "outputs": [
        {
          "output_type": "stream",
          "name": "stdout",
          "text": [
            "La forme de X_train est : (735, 224, 224, 3)\n",
            "La forme de X_val est : (157, 224, 224, 3)\n",
            "La forme de X_test est : (157, 224, 224, 3)\n"
          ]
        }
      ],
      "source": [
        "# Division du jeu de données ( stratify + radom_state = contre la fuite d'information)\n",
        "\n",
        "X_temp, X_train, y_temp, y_train = train_test_split(X, y, test_size=0.7, random_state=42, stratify=y)\n",
        "X_val, X_test, y_val, y_test = train_test_split(X_temp, y_temp, test_size=0.5, random_state=42, stratify=y_temp)\n",
        "\n",
        "print(\"La forme de X_train est :\", X_train.shape)\n",
        "print(\"La forme de X_val est :\", X_val.shape)\n",
        "print(\"La forme de X_test est :\", X_val.shape)"
      ]
    },
    {
      "cell_type": "markdown",
      "id": "VWeN14q3t--M",
      "metadata": {
        "id": "VWeN14q3t--M"
      },
      "source": [
        "# Tests des Modèles"
      ]
    },
    {
      "cell_type": "markdown",
      "id": "XYwf0RLd8WvX",
      "metadata": {
        "id": "XYwf0RLd8WvX"
      },
      "source": [
        "##  Perceptron Multicouche Entièrement Connecté"
      ]
    },
    {
      "cell_type": "markdown",
      "source": [
        "Un MLP est un réseau de neurones avec une ou plusieurs couches cachées entre\n",
        "la couche d'entrée et la couche de sortie. Chaque neurone dans une couche est\n",
        "connecté à tous les neurones de la couche suivante, permettant au réseau\n",
        "d'apprendre des représentations complexes des données. L'apprentissage se fait\n",
        "par rétropropagation et descente de gradient pour ajuster les poids du réseau."
      ],
      "metadata": {
        "id": "x8x8QFvuWbo8"
      },
      "id": "x8x8QFvuWbo8"
    },
    {
      "cell_type": "code",
      "execution_count": null,
      "id": "8ebc7f0f-6e1c-4edb-9b47-c7bf74d17e01",
      "metadata": {
        "id": "8ebc7f0f-6e1c-4edb-9b47-c7bf74d17e01",
        "colab": {
          "base_uri": "https://localhost:8080/"
        },
        "outputId": "dbc8cea5-fedc-4530-e4f6-fdc7237f8c5e"
      },
      "outputs": [
        {
          "output_type": "stream",
          "name": "stdout",
          "text": [
            "Model: \"sequential\"\n",
            "_________________________________________________________________\n",
            " Layer (type)                Output Shape              Param #   \n",
            "=================================================================\n",
            " flatten (Flatten)           (None, 150528)            0         \n",
            "                                                                 \n",
            " dense (Dense)               (None, 128)               19267712  \n",
            "                                                                 \n",
            " leaky_re_lu (LeakyReLU)     (None, 128)               0         \n",
            "                                                                 \n",
            " batch_normalization (Batch  (None, 128)               512       \n",
            " Normalization)                                                  \n",
            "                                                                 \n",
            " dense_1 (Dense)             (None, 64)                8256      \n",
            "                                                                 \n",
            " leaky_re_lu_1 (LeakyReLU)   (None, 64)                0         \n",
            "                                                                 \n",
            " batch_normalization_1 (Bat  (None, 64)                256       \n",
            " chNormalization)                                                \n",
            "                                                                 \n",
            " dense_2 (Dense)             (None, 7)                 455       \n",
            "                                                                 \n",
            "=================================================================\n",
            "Total params: 19277191 (73.54 MB)\n",
            "Trainable params: 19276807 (73.54 MB)\n",
            "Non-trainable params: 384 (1.50 KB)\n",
            "_________________________________________________________________\n"
          ]
        }
      ],
      "source": [
        "# Initiation du modèle MLP simple - Modele de référence\n",
        "\n",
        "model_mlp = Sequential()\n",
        "\n",
        "model_mlp.add(Flatten(input_shape=(224, 224, 3)))\n",
        "\n",
        "model_mlp.add(Dense(128))\n",
        "model_mlp.add(LeakyReLU(alpha=0.01))\n",
        "model_mlp.add(BatchNormalization())\n",
        "\n",
        "model_mlp.add(Dense(64))\n",
        "model_mlp.add(LeakyReLU(alpha=0.01))\n",
        "model_mlp.add(BatchNormalization())\n",
        "\n",
        "model_mlp.add(Dense(7, activation='softmax'))\n",
        "model_mlp.compile(optimizer=Adam(), loss='categorical_crossentropy', metrics=['accuracy'])\n",
        "\n",
        "model_mlp.summary()\n",
        "\n",
        "early_stopping = EarlyStopping(monitor='val_loss', patience=5, verbose=1, restore_best_weights=True)"
      ]
    },
    {
      "cell_type": "code",
      "execution_count": null,
      "id": "rz3rgtR5_Mao",
      "metadata": {
        "id": "rz3rgtR5_Mao",
        "colab": {
          "base_uri": "https://localhost:8080/"
        },
        "outputId": "f21be4c5-ebd6-46cd-d1f8-8182d9d6b59c"
      },
      "outputs": [
        {
          "output_type": "stream",
          "name": "stdout",
          "text": [
            "Epoch 1/10\n",
            "23/23 [==============================] - 6s 54ms/step - loss: 1.9840 - accuracy: 0.2939 - val_loss: 4.4281 - val_accuracy: 0.3248\n",
            "Epoch 2/10\n",
            "23/23 [==============================] - 1s 31ms/step - loss: 1.3767 - accuracy: 0.5116 - val_loss: 2.7687 - val_accuracy: 0.3439\n",
            "Epoch 3/10\n",
            "23/23 [==============================] - 1s 31ms/step - loss: 1.2270 - accuracy: 0.5973 - val_loss: 2.0505 - val_accuracy: 0.4204\n",
            "Epoch 4/10\n",
            "23/23 [==============================] - 1s 30ms/step - loss: 1.0191 - accuracy: 0.6680 - val_loss: 1.6285 - val_accuracy: 0.4777\n",
            "Epoch 5/10\n",
            "23/23 [==============================] - 1s 27ms/step - loss: 0.9302 - accuracy: 0.7034 - val_loss: 1.4794 - val_accuracy: 0.5096\n",
            "Epoch 6/10\n",
            "23/23 [==============================] - 1s 26ms/step - loss: 0.7721 - accuracy: 0.7728 - val_loss: 1.5451 - val_accuracy: 0.4904\n",
            "Epoch 7/10\n",
            "23/23 [==============================] - 1s 27ms/step - loss: 0.6984 - accuracy: 0.7959 - val_loss: 1.5723 - val_accuracy: 0.4777\n",
            "Epoch 8/10\n",
            "23/23 [==============================] - 1s 27ms/step - loss: 0.5218 - accuracy: 0.8476 - val_loss: 1.4965 - val_accuracy: 0.5287\n",
            "Epoch 9/10\n",
            "23/23 [==============================] - 1s 33ms/step - loss: 0.4358 - accuracy: 0.8966 - val_loss: 1.3772 - val_accuracy: 0.5159\n",
            "Epoch 10/10\n",
            "23/23 [==============================] - 1s 31ms/step - loss: 0.3042 - accuracy: 0.9456 - val_loss: 1.5861 - val_accuracy: 0.4522\n",
            "\n",
            "Temps écoulé pour l'entraînement: 15.51 secondes\n"
          ]
        }
      ],
      "source": [
        "# Entraînement du modèle avec calcule du temps d'exécution\n",
        "start_time = time.time()\n",
        "\n",
        "model_mlp.fit(X_train, y_train, epochs=10, validation_data=(X_val, y_val), callbacks=[early_stopping])\n",
        "\n",
        "end_time = time.time()\n",
        "elapsed_time = end_time - start_time\n",
        "print(\"\")\n",
        "print(f\"Temps écoulé pour l'entraînement: {elapsed_time:.2f} secondes\")"
      ]
    },
    {
      "cell_type": "code",
      "execution_count": null,
      "id": "cNB45sFY---6",
      "metadata": {
        "id": "cNB45sFY---6",
        "colab": {
          "base_uri": "https://localhost:8080/"
        },
        "outputId": "7fa2a004-54f1-4023-96d1-9f8680ec5115"
      },
      "outputs": [
        {
          "output_type": "stream",
          "name": "stdout",
          "text": [
            "5/5 [==============================] - 0s 17ms/step - loss: 1.6739 - accuracy: 0.4810\n",
            "\n",
            "Score du test : test_loss = 1.6739, test_accuracy = 0.4810\n"
          ]
        }
      ],
      "source": [
        "# Évaluation du modèle sur l'ensemble de test\n",
        "test_loss_mlp, test_accuracy_mlp = model_mlp.evaluate(X_test, y_test)\n",
        "print(\"\")\n",
        "print(f\"Score du test : test_loss = {test_loss_mlp:.4f}, test_accuracy = {test_accuracy_mlp:.4f}\")"
      ]
    },
    {
      "cell_type": "code",
      "execution_count": null,
      "id": "TqnmO6eC-Yg6",
      "metadata": {
        "id": "TqnmO6eC-Yg6",
        "colab": {
          "base_uri": "https://localhost:8080/"
        },
        "outputId": "8d06e48c-06a9-4b53-d2aa-45baa9938af5"
      },
      "outputs": [
        {
          "output_type": "stream",
          "name": "stdout",
          "text": [
            "5/5 [==============================] - 0s 11ms/step\n",
            "              precision    recall  f1-score   support\n",
            "\n",
            "           0       0.44      0.30      0.36        23\n",
            "           1       0.75      0.41      0.53        22\n",
            "           2       0.29      0.78      0.42        23\n",
            "           3       0.46      0.26      0.33        23\n",
            "           4       0.48      0.43      0.45        23\n",
            "           5       0.72      0.59      0.65        22\n",
            "           6       0.81      0.59      0.68        22\n",
            "\n",
            "    accuracy                           0.48       158\n",
            "   macro avg       0.56      0.48      0.49       158\n",
            "weighted avg       0.56      0.48      0.49       158\n",
            "\n"
          ]
        }
      ],
      "source": [
        "y_pred = model_mlp.predict(X_test)\n",
        "y_pred_classes = np.argmax(y_pred, axis=1)\n",
        "y_true = np.argmax(y_test, axis=1)\n",
        "\n",
        "# Rapport de classification\n",
        "print(classification_report(y_true, y_pred_classes))"
      ]
    },
    {
      "cell_type": "code",
      "execution_count": null,
      "id": "V2nexh0hFDW9",
      "metadata": {
        "id": "V2nexh0hFDW9",
        "colab": {
          "base_uri": "https://localhost:8080/"
        },
        "outputId": "5e9ab534-4638-4f17-abe9-2213473722c5"
      },
      "outputs": [
        {
          "output_type": "stream",
          "name": "stdout",
          "text": [
            "[[ 7  0  9  2  3  1  1]\n",
            " [ 1  9  7  1  3  1  0]\n",
            " [ 0  1 18  2  1  0  1]\n",
            " [ 2  0 10  6  3  2  0]\n",
            " [ 4  2  4  1 10  1  1]\n",
            " [ 0  0  7  1  1 13  0]\n",
            " [ 2  0  7  0  0  0 13]]\n"
          ]
        }
      ],
      "source": [
        "# Matrice de confusion\n",
        "print(confusion_matrix(y_true, y_pred_classes))"
      ]
    },
    {
      "cell_type": "markdown",
      "source": [
        "Le modèle MLP a atteint une précision de test de 48.10%, ce qui indique une\n",
        "performance modeste. Les résultats montrent une variation significative dans\n",
        "la précision, le rappel et le score F1 entre les différentes classes, avec\n",
        "des performances particulièrement faibles pour la classe 0 et des résultats\n",
        "meilleurs pour les classes 1 et 6."
      ],
      "metadata": {
        "id": "4jeINxJ0XTUX"
      },
      "id": "4jeINxJ0XTUX"
    },
    {
      "cell_type": "markdown",
      "id": "Zv3jMlAQBnVj",
      "metadata": {
        "id": "Zv3jMlAQBnVj"
      },
      "source": [
        "## CNN - Réseau neuronal convolutif"
      ]
    },
    {
      "cell_type": "markdown",
      "source": [
        "Un CNN est un type de réseau de neurones profond spécialement conçu pour\n",
        "traiter des données structurées en grille, comme les images. Il se compose\n",
        "de couches convolutives qui filtrent les données d'entrée pour en extraire\n",
        "des caractéristiques, suivies de couches de pooling qui réduisent la\n",
        "dimensionnalité."
      ],
      "metadata": {
        "id": "0BXMmrmBXwTx"
      },
      "id": "0BXMmrmBXwTx"
    },
    {
      "cell_type": "code",
      "execution_count": null,
      "id": "d7548a3e-2afe-4c20-a6e3-97d61cebb68e",
      "metadata": {
        "colab": {
          "base_uri": "https://localhost:8080/"
        },
        "id": "d7548a3e-2afe-4c20-a6e3-97d61cebb68e",
        "outputId": "3e1d9567-7c15-4c87-d66a-81e180ac1f48"
      },
      "outputs": [
        {
          "output_type": "stream",
          "name": "stdout",
          "text": [
            "Model: \"sequential_1\"\n",
            "_________________________________________________________________\n",
            " Layer (type)                Output Shape              Param #   \n",
            "=================================================================\n",
            " conv2d (Conv2D)             (None, 222, 222, 32)      896       \n",
            "                                                                 \n",
            " batch_normalization_2 (Bat  (None, 222, 222, 32)      128       \n",
            " chNormalization)                                                \n",
            "                                                                 \n",
            " max_pooling2d (MaxPooling2  (None, 111, 111, 32)      0         \n",
            " D)                                                              \n",
            "                                                                 \n",
            " dropout (Dropout)           (None, 111, 111, 32)      0         \n",
            "                                                                 \n",
            " conv2d_1 (Conv2D)           (None, 109, 109, 64)      18496     \n",
            "                                                                 \n",
            " batch_normalization_3 (Bat  (None, 109, 109, 64)      256       \n",
            " chNormalization)                                                \n",
            "                                                                 \n",
            " max_pooling2d_1 (MaxPoolin  (None, 54, 54, 64)        0         \n",
            " g2D)                                                            \n",
            "                                                                 \n",
            " dropout_1 (Dropout)         (None, 54, 54, 64)        0         \n",
            "                                                                 \n",
            " conv2d_2 (Conv2D)           (None, 52, 52, 128)       73856     \n",
            "                                                                 \n",
            " batch_normalization_4 (Bat  (None, 52, 52, 128)       512       \n",
            " chNormalization)                                                \n",
            "                                                                 \n",
            " max_pooling2d_2 (MaxPoolin  (None, 26, 26, 128)       0         \n",
            " g2D)                                                            \n",
            "                                                                 \n",
            " dropout_2 (Dropout)         (None, 26, 26, 128)       0         \n",
            "                                                                 \n",
            " flatten_1 (Flatten)         (None, 86528)             0         \n",
            "                                                                 \n",
            " dense_3 (Dense)             (None, 128)               11075712  \n",
            "                                                                 \n",
            " batch_normalization_5 (Bat  (None, 128)               512       \n",
            " chNormalization)                                                \n",
            "                                                                 \n",
            " dropout_3 (Dropout)         (None, 128)               0         \n",
            "                                                                 \n",
            " dense_4 (Dense)             (None, 7)                 903       \n",
            "                                                                 \n",
            "=================================================================\n",
            "Total params: 11171271 (42.62 MB)\n",
            "Trainable params: 11170567 (42.61 MB)\n",
            "Non-trainable params: 704 (2.75 KB)\n",
            "_________________________________________________________________\n"
          ]
        }
      ],
      "source": [
        "# Initiation du modèle CNN\n",
        "model_cnn = Sequential()\n",
        "\n",
        "# Couche de convolution et max pooling 1\n",
        "model_cnn.add(Conv2D(32, (3, 3), activation='relu', input_shape=(224, 224, 3)))\n",
        "model_cnn.add(BatchNormalization())\n",
        "model_cnn.add(MaxPooling2D((2, 2)))\n",
        "model_cnn.add(Dropout(0.25))\n",
        "\n",
        "# Couche de convolution et max pooling 2\n",
        "model_cnn.add(Conv2D(64, (3, 3), activation='relu'))\n",
        "model_cnn.add(BatchNormalization())\n",
        "model_cnn.add(MaxPooling2D((2, 2)))\n",
        "model_cnn.add(Dropout(0.25))\n",
        "\n",
        "# Couche de convolution et max pooling 3\n",
        "model_cnn.add(Conv2D(128, (3, 3), activation='relu'))\n",
        "model_cnn.add(BatchNormalization())\n",
        "model_cnn.add(MaxPooling2D((2, 2)))\n",
        "model_cnn.add(Dropout(0.25))\n",
        "\n",
        "# Aplatir les sorties pour les connecter à des couches denses\n",
        "model_cnn.add(Flatten())\n",
        "\n",
        "# Couche dense avec régularisation par dropout\n",
        "model_cnn.add(Dense(128, activation='relu'))\n",
        "model_cnn.add(BatchNormalization())\n",
        "model_cnn.add(Dropout(0.5))\n",
        "\n",
        "# Couche de sortie\n",
        "model_cnn.add(Dense(7, activation='softmax'))\n",
        "\n",
        "# Compilation du modèle\n",
        "model_cnn.compile(optimizer='adam', loss='categorical_crossentropy', metrics=['accuracy'])\n",
        "\n",
        "model_cnn.summary()\n",
        "\n",
        "early_stopping = EarlyStopping(monitor='val_loss', patience=5, verbose=1, restore_best_weights=True)"
      ]
    },
    {
      "cell_type": "code",
      "execution_count": null,
      "id": "FMgb1RHxCW-O",
      "metadata": {
        "colab": {
          "base_uri": "https://localhost:8080/"
        },
        "id": "FMgb1RHxCW-O",
        "outputId": "70cad632-28b8-48c9-ef17-fedefc331b4b"
      },
      "outputs": [
        {
          "output_type": "stream",
          "name": "stdout",
          "text": [
            "Epoch 1/10\n",
            "23/23 [==============================] - 13s 285ms/step - loss: 2.1800 - accuracy: 0.3565 - val_loss: 6.1975 - val_accuracy: 0.3758\n",
            "Epoch 2/10\n",
            "23/23 [==============================] - 3s 132ms/step - loss: 1.4644 - accuracy: 0.5320 - val_loss: 3.4808 - val_accuracy: 0.4013\n",
            "Epoch 3/10\n",
            "23/23 [==============================] - 3s 132ms/step - loss: 1.1154 - accuracy: 0.6422 - val_loss: 1.8216 - val_accuracy: 0.4650\n",
            "Epoch 4/10\n",
            "23/23 [==============================] - 3s 147ms/step - loss: 1.0427 - accuracy: 0.6544 - val_loss: 1.7283 - val_accuracy: 0.4013\n",
            "Epoch 5/10\n",
            "23/23 [==============================] - 4s 155ms/step - loss: 0.8050 - accuracy: 0.7306 - val_loss: 1.2434 - val_accuracy: 0.5924\n",
            "Epoch 6/10\n",
            "23/23 [==============================] - 3s 139ms/step - loss: 0.6445 - accuracy: 0.7918 - val_loss: 1.4855 - val_accuracy: 0.5541\n",
            "Epoch 7/10\n",
            "23/23 [==============================] - 3s 143ms/step - loss: 0.5453 - accuracy: 0.8218 - val_loss: 1.5809 - val_accuracy: 0.5287\n",
            "Epoch 8/10\n",
            "23/23 [==============================] - 3s 132ms/step - loss: 0.4207 - accuracy: 0.8789 - val_loss: 1.4050 - val_accuracy: 0.5414\n",
            "Epoch 9/10\n",
            "23/23 [==============================] - 4s 158ms/step - loss: 0.3412 - accuracy: 0.9020 - val_loss: 1.5038 - val_accuracy: 0.5350\n",
            "Epoch 10/10\n",
            "23/23 [==============================] - ETA: 0s - loss: 0.2083 - accuracy: 0.9442Restoring model weights from the end of the best epoch: 5.\n",
            "23/23 [==============================] - 4s 192ms/step - loss: 0.2083 - accuracy: 0.9442 - val_loss: 1.5612 - val_accuracy: 0.5732\n",
            "Epoch 10: early stopping\n",
            "\n",
            "Temps écoulé pour l'entraînement: 44.86 secondes\n"
          ]
        }
      ],
      "source": [
        "# Entraînement du modèle avec calcule du temps d'execution\n",
        "\n",
        "start_time = time.time()\n",
        "\n",
        "model_cnn.fit(X_train, y_train, epochs=10, validation_data=(X_val, y_val), callbacks=[early_stopping])\n",
        "\n",
        "end_time = time.time()\n",
        "elapsed_time = end_time - start_time\n",
        "print(\"\")\n",
        "print(f\"Temps écoulé pour l'entraînement: {elapsed_time:.2f} secondes\")"
      ]
    },
    {
      "cell_type": "code",
      "execution_count": null,
      "id": "CGLXtUDkCcSR",
      "metadata": {
        "colab": {
          "base_uri": "https://localhost:8080/"
        },
        "id": "CGLXtUDkCcSR",
        "outputId": "22c432e0-84e2-4d2b-9dea-8b6d9e8d3f0d"
      },
      "outputs": [
        {
          "output_type": "stream",
          "name": "stdout",
          "text": [
            "5/5 [==============================] - 1s 168ms/step - loss: 1.4229 - accuracy: 0.5570\n",
            "\n",
            "Score du test : test_loss = 1.4229, test_accuracy = 0.5570\n"
          ]
        }
      ],
      "source": [
        "# Évaluation du modèle sur l'ensemble de test\n",
        "test_loss_cnn, test_accuracy_cnn = model_cnn.evaluate(X_test, y_test)\n",
        "print(\"\")\n",
        "print(f\"Score du test : test_loss = {test_loss_cnn:.4f}, test_accuracy = {test_accuracy_cnn:.4f}\")"
      ]
    },
    {
      "cell_type": "code",
      "execution_count": null,
      "id": "o2A62Yn-CiCQ",
      "metadata": {
        "colab": {
          "base_uri": "https://localhost:8080/"
        },
        "id": "o2A62Yn-CiCQ",
        "outputId": "95543a4c-00c2-4775-eca6-aa0907c44908"
      },
      "outputs": [
        {
          "output_type": "stream",
          "name": "stdout",
          "text": [
            "5/5 [==============================] - 0s 20ms/step\n",
            "              precision    recall  f1-score   support\n",
            "\n",
            "           0       0.35      0.61      0.44        23\n",
            "           1       0.88      0.32      0.47        22\n",
            "           2       0.58      0.78      0.67        23\n",
            "           3       0.48      0.65      0.56        23\n",
            "           4       0.42      0.35      0.38        23\n",
            "           5       0.83      0.45      0.59        22\n",
            "           6       0.94      0.73      0.82        22\n",
            "\n",
            "    accuracy                           0.56       158\n",
            "   macro avg       0.64      0.56      0.56       158\n",
            "weighted avg       0.64      0.56      0.56       158\n",
            "\n"
          ]
        }
      ],
      "source": [
        "y_pred = model_cnn.predict(X_test)\n",
        "y_pred_classes = np.argmax(y_pred, axis=1)\n",
        "y_true = np.argmax(y_test, axis=1)\n",
        "\n",
        "# Rapport de classification\n",
        "print(classification_report(y_true, y_pred_classes))"
      ]
    },
    {
      "cell_type": "code",
      "execution_count": null,
      "id": "8tP4ml4rHu6b",
      "metadata": {
        "colab": {
          "base_uri": "https://localhost:8080/"
        },
        "id": "8tP4ml4rHu6b",
        "outputId": "1ddd999d-642b-4593-efe9-432c3b413ccb"
      },
      "outputs": [
        {
          "output_type": "stream",
          "name": "stdout",
          "text": [
            "[[14  0  3  1  5  0  0]\n",
            " [ 8  7  1  4  1  1  0]\n",
            " [ 3  0 18  2  0  0  0]\n",
            " [ 2  0  1 15  4  1  0]\n",
            " [ 9  0  1  4  8  0  1]\n",
            " [ 1  0  5  5  1 10  0]\n",
            " [ 3  1  2  0  0  0 16]]\n"
          ]
        }
      ],
      "source": [
        "# Matrice de confusion\n",
        "print(confusion_matrix(y_true, y_pred_classes))"
      ]
    },
    {
      "cell_type": "markdown",
      "source": [
        "Le CNN a obtenu une précision de test de 55.70%, surpassant le MLP précédent.\n",
        "Les scores de précision et de rappel varient considérablement entre les classes,\n",
        "avec des performances élevées pour les classes 1 et 6, mais des résultats\n",
        "inférieurs pour la classe 0. La matrice de confusion indique des confusions\n",
        "entre certaines classes,"
      ],
      "metadata": {
        "id": "2iJT7B4yYZ-G"
      },
      "id": "2iJT7B4yYZ-G"
    },
    {
      "cell_type": "markdown",
      "id": "wJTTsunsCn7G",
      "metadata": {
        "id": "wJTTsunsCn7G"
      },
      "source": [
        "## CNN VGG16 - ImageNet\n"
      ]
    },
    {
      "cell_type": "markdown",
      "source": [
        "VGG16 est un CNN pré-entraîné sur ImageNet, utilisé pour le transfer learning\n",
        "dans la classification d'images. Il permet un apprentissage rapide et efficace\n",
        "sur de nouveaux jeux de données en exploitant des caractéristiques visuelles\n",
        "générales déjà apprises."
      ],
      "metadata": {
        "id": "_klyPZSjZRVF"
      },
      "id": "_klyPZSjZRVF"
    },
    {
      "cell_type": "code",
      "execution_count": null,
      "id": "3cc49d26-e5fd-4851-9654-289bae277b5b",
      "metadata": {
        "colab": {
          "base_uri": "https://localhost:8080/"
        },
        "id": "3cc49d26-e5fd-4851-9654-289bae277b5b",
        "outputId": "69950c60-8607-447d-d9bf-f157d907a194"
      },
      "outputs": [
        {
          "output_type": "stream",
          "name": "stdout",
          "text": [
            "Model: \"sequential_2\"\n",
            "_________________________________________________________________\n",
            " Layer (type)                Output Shape              Param #   \n",
            "=================================================================\n",
            " vgg16 (Functional)          (None, 7, 7, 512)         14714688  \n",
            "                                                                 \n",
            " flatten_2 (Flatten)         (None, 25088)             0         \n",
            "                                                                 \n",
            " dense_5 (Dense)             (None, 128)               3211392   \n",
            "                                                                 \n",
            " batch_normalization_6 (Bat  (None, 128)               512       \n",
            " chNormalization)                                                \n",
            "                                                                 \n",
            " dropout_4 (Dropout)         (None, 128)               0         \n",
            "                                                                 \n",
            " dense_6 (Dense)             (None, 7)                 903       \n",
            "                                                                 \n",
            "=================================================================\n",
            "Total params: 17927495 (68.39 MB)\n",
            "Trainable params: 3212551 (12.25 MB)\n",
            "Non-trainable params: 14714944 (56.13 MB)\n",
            "_________________________________________________________________\n"
          ]
        }
      ],
      "source": [
        "# Chargement de VGG16 pré-entraîné sans les couches entièrement connectées\n",
        "vgg16_base = VGG16(weights='imagenet', include_top=False, input_shape=(224, 224, 3))\n",
        "\n",
        "# Gele des couches du modèle de base pour ne pas les réentraîner\n",
        "for layer in vgg16_base.layers:\n",
        "    layer.trainable = False\n",
        "\n",
        "# Initiation du modèle CNN avec VGG16 comme base\n",
        "model_vgg = Sequential()\n",
        "\n",
        "# Ajout de VGG16 comme couche de base\n",
        "model_vgg.add(vgg16_base)\n",
        "\n",
        "# Ajout des couches personnalisées\n",
        "model_vgg.add(Flatten())\n",
        "model_vgg.add(Dense(128, activation='relu'))\n",
        "model_vgg.add(BatchNormalization())\n",
        "model_vgg.add(Dropout(0.5))\n",
        "model_vgg.add(Dense(7, activation='softmax'))\n",
        "\n",
        "# Compilation du modèle\n",
        "model_vgg.compile(optimizer=Adam(learning_rate=0.0001), loss='categorical_crossentropy', metrics=['accuracy'])\n",
        "\n",
        "model_vgg.summary()\n",
        "\n",
        "# Callback pour l'arrêt précoce\n",
        "early_stopping = EarlyStopping(monitor='val_loss', patience=5, verbose=1, restore_best_weights=True)"
      ]
    },
    {
      "cell_type": "code",
      "execution_count": null,
      "id": "ZKmXVlQzZimg",
      "metadata": {
        "colab": {
          "base_uri": "https://localhost:8080/"
        },
        "id": "ZKmXVlQzZimg",
        "outputId": "fd46760e-67c8-4f15-d60d-31c4d041bab6"
      },
      "outputs": [
        {
          "output_type": "stream",
          "name": "stdout",
          "text": [
            "Epoch 1/10\n",
            "23/23 [==============================] - 29s 913ms/step - loss: 1.6309 - accuracy: 0.5170 - val_loss: 1.4247 - val_accuracy: 0.6688\n",
            "Epoch 2/10\n",
            "23/23 [==============================] - 4s 159ms/step - loss: 0.4194 - accuracy: 0.8612 - val_loss: 0.8557 - val_accuracy: 0.7516\n",
            "Epoch 3/10\n",
            "23/23 [==============================] - 4s 158ms/step - loss: 0.2518 - accuracy: 0.9279 - val_loss: 0.6913 - val_accuracy: 0.8280\n",
            "Epoch 4/10\n",
            "23/23 [==============================] - 4s 158ms/step - loss: 0.1695 - accuracy: 0.9524 - val_loss: 0.6686 - val_accuracy: 0.8344\n",
            "Epoch 5/10\n",
            "23/23 [==============================] - 5s 201ms/step - loss: 0.1151 - accuracy: 0.9687 - val_loss: 0.6307 - val_accuracy: 0.8408\n",
            "Epoch 6/10\n",
            "23/23 [==============================] - 4s 157ms/step - loss: 0.0786 - accuracy: 0.9918 - val_loss: 0.6123 - val_accuracy: 0.8408\n",
            "Epoch 7/10\n",
            "23/23 [==============================] - 4s 154ms/step - loss: 0.0729 - accuracy: 0.9837 - val_loss: 0.5878 - val_accuracy: 0.8535\n",
            "Epoch 8/10\n",
            "23/23 [==============================] - 4s 157ms/step - loss: 0.0481 - accuracy: 0.9932 - val_loss: 0.5734 - val_accuracy: 0.8535\n",
            "Epoch 9/10\n",
            "23/23 [==============================] - 4s 158ms/step - loss: 0.0441 - accuracy: 0.9959 - val_loss: 0.5680 - val_accuracy: 0.8535\n",
            "Epoch 10/10\n",
            "23/23 [==============================] - 4s 154ms/step - loss: 0.0456 - accuracy: 0.9932 - val_loss: 0.5696 - val_accuracy: 0.8535\n",
            "\n",
            "Temps écoulé pour l'entraînement: 84.14 secondes\n"
          ]
        }
      ],
      "source": [
        "# Entraînement du modele avec calcule du temps d'exécution\n",
        "\n",
        "start_time = time.time()\n",
        "\n",
        "model_vgg.fit(X_train, y_train, epochs=10, validation_data=(X_val, y_val), callbacks=[early_stopping])\n",
        "\n",
        "end_time = time.time()\n",
        "elapsed_time = end_time - start_time\n",
        "print(\"\")\n",
        "print(f\"Temps écoulé pour l'entraînement: {elapsed_time:.2f} secondes\")"
      ]
    },
    {
      "cell_type": "code",
      "execution_count": null,
      "id": "Q3cy8hlpZ1nY",
      "metadata": {
        "id": "Q3cy8hlpZ1nY",
        "colab": {
          "base_uri": "https://localhost:8080/"
        },
        "outputId": "4bea1d76-2af0-43ef-ee01-cb6ff8cd45df"
      },
      "outputs": [
        {
          "output_type": "stream",
          "name": "stdout",
          "text": [
            "5/5 [==============================] - 7s 2s/step - loss: 0.6503 - accuracy: 0.8101\n",
            "\n",
            "Score du test : test_loss = 0.6503, test_accuracy = 0.8101\n"
          ]
        }
      ],
      "source": [
        "# Évaluation du modèle sur l'ensemble de test\n",
        "test_loss_vgg, test_accuracy_vgg = model_vgg.evaluate(X_test, y_test)\n",
        "print(\"\")\n",
        "print(f\"Score du test : test_loss = {test_loss_vgg:.4f}, test_accuracy = {test_accuracy_vgg:.4f}\")"
      ]
    },
    {
      "cell_type": "code",
      "execution_count": null,
      "id": "L57pMmDVZ9Ki",
      "metadata": {
        "id": "L57pMmDVZ9Ki",
        "colab": {
          "base_uri": "https://localhost:8080/"
        },
        "outputId": "1ec6fe90-4c97-40a0-8de9-c38a043daf2f"
      },
      "outputs": [
        {
          "output_type": "stream",
          "name": "stdout",
          "text": [
            "5/5 [==============================] - 1s 129ms/step\n",
            "              precision    recall  f1-score   support\n",
            "\n",
            "           0       0.83      0.65      0.73        23\n",
            "           1       0.89      0.73      0.80        22\n",
            "           2       0.81      0.91      0.86        23\n",
            "           3       0.68      0.74      0.71        23\n",
            "           4       0.77      0.87      0.82        23\n",
            "           5       0.86      0.82      0.84        22\n",
            "           6       0.88      0.95      0.91        22\n",
            "\n",
            "    accuracy                           0.81       158\n",
            "   macro avg       0.82      0.81      0.81       158\n",
            "weighted avg       0.81      0.81      0.81       158\n",
            "\n"
          ]
        }
      ],
      "source": [
        "y_pred = model_vgg.predict(X_test)\n",
        "y_pred_classes = np.argmax(y_pred, axis=1)\n",
        "y_true = np.argmax(y_test, axis=1)\n",
        "\n",
        "# Rapport de classification\n",
        "print(classification_report(y_true, y_pred_classes))"
      ]
    },
    {
      "cell_type": "code",
      "execution_count": null,
      "id": "6FwPT6YQaHsG",
      "metadata": {
        "id": "6FwPT6YQaHsG",
        "colab": {
          "base_uri": "https://localhost:8080/"
        },
        "outputId": "0222c530-bb87-4e17-cef4-82f9c3ae8bf1"
      },
      "outputs": [
        {
          "output_type": "stream",
          "name": "stdout",
          "text": [
            "[[15  1  0  2  5  0  0]\n",
            " [ 0 16  0  3  0  2  1]\n",
            " [ 0  1 21  0  0  0  1]\n",
            " [ 0  0  3 17  1  1  1]\n",
            " [ 3  0  0  0 20  0  0]\n",
            " [ 0  0  1  3  0 18  0]\n",
            " [ 0  0  1  0  0  0 21]]\n"
          ]
        }
      ],
      "source": [
        "# Matrice de confusion\n",
        "print(confusion_matrix(y_true, y_pred_classes))"
      ]
    },
    {
      "cell_type": "markdown",
      "source": [
        "Le VGG16 pré-entraîné a démontré une excellente précision de test de 81.01%,\n",
        "reflétant la puissance du transfer learning pour la classification d'images.\n",
        "Les scores élevés de précision, de rappel et de F1-score à travers les classes\n",
        "indiquent que le modèle a bien généralisé sur le nouveau jeu de données. La\n",
        "matrice de confusion montre une bonne distinction entre les classes, avec\n",
        "quelques confusions mineures."
      ],
      "metadata": {
        "id": "rFCWebeFZM7z"
      },
      "id": "rFCWebeFZM7z"
    },
    {
      "cell_type": "code",
      "execution_count": null,
      "id": "FzHIofY-nAFF",
      "metadata": {
        "id": "FzHIofY-nAFF",
        "colab": {
          "base_uri": "https://localhost:8080/",
          "height": 143
        },
        "outputId": "d7629aae-1b34-4ea8-928f-c0104b199aea"
      },
      "outputs": [
        {
          "output_type": "execute_result",
          "data": {
            "text/plain": [
              "           Modèles  Test Loss  Test Accurancy\n",
              "0              MLP   1.673886        0.481013\n",
              "1              CNN   1.422901        0.556962\n",
              "2  VGG 16 ImageNet   0.650294        0.810127"
            ],
            "text/html": [
              "\n",
              "  <div id=\"df-b3e12f81-ded2-4258-80f1-98abdb486169\" class=\"colab-df-container\">\n",
              "    <div>\n",
              "<style scoped>\n",
              "    .dataframe tbody tr th:only-of-type {\n",
              "        vertical-align: middle;\n",
              "    }\n",
              "\n",
              "    .dataframe tbody tr th {\n",
              "        vertical-align: top;\n",
              "    }\n",
              "\n",
              "    .dataframe thead th {\n",
              "        text-align: right;\n",
              "    }\n",
              "</style>\n",
              "<table border=\"1\" class=\"dataframe\">\n",
              "  <thead>\n",
              "    <tr style=\"text-align: right;\">\n",
              "      <th></th>\n",
              "      <th>Modèles</th>\n",
              "      <th>Test Loss</th>\n",
              "      <th>Test Accurancy</th>\n",
              "    </tr>\n",
              "  </thead>\n",
              "  <tbody>\n",
              "    <tr>\n",
              "      <th>0</th>\n",
              "      <td>MLP</td>\n",
              "      <td>1.673886</td>\n",
              "      <td>0.481013</td>\n",
              "    </tr>\n",
              "    <tr>\n",
              "      <th>1</th>\n",
              "      <td>CNN</td>\n",
              "      <td>1.422901</td>\n",
              "      <td>0.556962</td>\n",
              "    </tr>\n",
              "    <tr>\n",
              "      <th>2</th>\n",
              "      <td>VGG 16 ImageNet</td>\n",
              "      <td>0.650294</td>\n",
              "      <td>0.810127</td>\n",
              "    </tr>\n",
              "  </tbody>\n",
              "</table>\n",
              "</div>\n",
              "    <div class=\"colab-df-buttons\">\n",
              "\n",
              "  <div class=\"colab-df-container\">\n",
              "    <button class=\"colab-df-convert\" onclick=\"convertToInteractive('df-b3e12f81-ded2-4258-80f1-98abdb486169')\"\n",
              "            title=\"Convert this dataframe to an interactive table.\"\n",
              "            style=\"display:none;\">\n",
              "\n",
              "  <svg xmlns=\"http://www.w3.org/2000/svg\" height=\"24px\" viewBox=\"0 -960 960 960\">\n",
              "    <path d=\"M120-120v-720h720v720H120Zm60-500h600v-160H180v160Zm220 220h160v-160H400v160Zm0 220h160v-160H400v160ZM180-400h160v-160H180v160Zm440 0h160v-160H620v160ZM180-180h160v-160H180v160Zm440 0h160v-160H620v160Z\"/>\n",
              "  </svg>\n",
              "    </button>\n",
              "\n",
              "  <style>\n",
              "    .colab-df-container {\n",
              "      display:flex;\n",
              "      gap: 12px;\n",
              "    }\n",
              "\n",
              "    .colab-df-convert {\n",
              "      background-color: #E8F0FE;\n",
              "      border: none;\n",
              "      border-radius: 50%;\n",
              "      cursor: pointer;\n",
              "      display: none;\n",
              "      fill: #1967D2;\n",
              "      height: 32px;\n",
              "      padding: 0 0 0 0;\n",
              "      width: 32px;\n",
              "    }\n",
              "\n",
              "    .colab-df-convert:hover {\n",
              "      background-color: #E2EBFA;\n",
              "      box-shadow: 0px 1px 2px rgba(60, 64, 67, 0.3), 0px 1px 3px 1px rgba(60, 64, 67, 0.15);\n",
              "      fill: #174EA6;\n",
              "    }\n",
              "\n",
              "    .colab-df-buttons div {\n",
              "      margin-bottom: 4px;\n",
              "    }\n",
              "\n",
              "    [theme=dark] .colab-df-convert {\n",
              "      background-color: #3B4455;\n",
              "      fill: #D2E3FC;\n",
              "    }\n",
              "\n",
              "    [theme=dark] .colab-df-convert:hover {\n",
              "      background-color: #434B5C;\n",
              "      box-shadow: 0px 1px 3px 1px rgba(0, 0, 0, 0.15);\n",
              "      filter: drop-shadow(0px 1px 2px rgba(0, 0, 0, 0.3));\n",
              "      fill: #FFFFFF;\n",
              "    }\n",
              "  </style>\n",
              "\n",
              "    <script>\n",
              "      const buttonEl =\n",
              "        document.querySelector('#df-b3e12f81-ded2-4258-80f1-98abdb486169 button.colab-df-convert');\n",
              "      buttonEl.style.display =\n",
              "        google.colab.kernel.accessAllowed ? 'block' : 'none';\n",
              "\n",
              "      async function convertToInteractive(key) {\n",
              "        const element = document.querySelector('#df-b3e12f81-ded2-4258-80f1-98abdb486169');\n",
              "        const dataTable =\n",
              "          await google.colab.kernel.invokeFunction('convertToInteractive',\n",
              "                                                    [key], {});\n",
              "        if (!dataTable) return;\n",
              "\n",
              "        const docLinkHtml = 'Like what you see? Visit the ' +\n",
              "          '<a target=\"_blank\" href=https://colab.research.google.com/notebooks/data_table.ipynb>data table notebook</a>'\n",
              "          + ' to learn more about interactive tables.';\n",
              "        element.innerHTML = '';\n",
              "        dataTable['output_type'] = 'display_data';\n",
              "        await google.colab.output.renderOutput(dataTable, element);\n",
              "        const docLink = document.createElement('div');\n",
              "        docLink.innerHTML = docLinkHtml;\n",
              "        element.appendChild(docLink);\n",
              "      }\n",
              "    </script>\n",
              "  </div>\n",
              "\n",
              "\n",
              "<div id=\"df-2730cffc-ed83-455b-85f0-ec3538179972\">\n",
              "  <button class=\"colab-df-quickchart\" onclick=\"quickchart('df-2730cffc-ed83-455b-85f0-ec3538179972')\"\n",
              "            title=\"Suggest charts\"\n",
              "            style=\"display:none;\">\n",
              "\n",
              "<svg xmlns=\"http://www.w3.org/2000/svg\" height=\"24px\"viewBox=\"0 0 24 24\"\n",
              "     width=\"24px\">\n",
              "    <g>\n",
              "        <path d=\"M19 3H5c-1.1 0-2 .9-2 2v14c0 1.1.9 2 2 2h14c1.1 0 2-.9 2-2V5c0-1.1-.9-2-2-2zM9 17H7v-7h2v7zm4 0h-2V7h2v10zm4 0h-2v-4h2v4z\"/>\n",
              "    </g>\n",
              "</svg>\n",
              "  </button>\n",
              "\n",
              "<style>\n",
              "  .colab-df-quickchart {\n",
              "      --bg-color: #E8F0FE;\n",
              "      --fill-color: #1967D2;\n",
              "      --hover-bg-color: #E2EBFA;\n",
              "      --hover-fill-color: #174EA6;\n",
              "      --disabled-fill-color: #AAA;\n",
              "      --disabled-bg-color: #DDD;\n",
              "  }\n",
              "\n",
              "  [theme=dark] .colab-df-quickchart {\n",
              "      --bg-color: #3B4455;\n",
              "      --fill-color: #D2E3FC;\n",
              "      --hover-bg-color: #434B5C;\n",
              "      --hover-fill-color: #FFFFFF;\n",
              "      --disabled-bg-color: #3B4455;\n",
              "      --disabled-fill-color: #666;\n",
              "  }\n",
              "\n",
              "  .colab-df-quickchart {\n",
              "    background-color: var(--bg-color);\n",
              "    border: none;\n",
              "    border-radius: 50%;\n",
              "    cursor: pointer;\n",
              "    display: none;\n",
              "    fill: var(--fill-color);\n",
              "    height: 32px;\n",
              "    padding: 0;\n",
              "    width: 32px;\n",
              "  }\n",
              "\n",
              "  .colab-df-quickchart:hover {\n",
              "    background-color: var(--hover-bg-color);\n",
              "    box-shadow: 0 1px 2px rgba(60, 64, 67, 0.3), 0 1px 3px 1px rgba(60, 64, 67, 0.15);\n",
              "    fill: var(--button-hover-fill-color);\n",
              "  }\n",
              "\n",
              "  .colab-df-quickchart-complete:disabled,\n",
              "  .colab-df-quickchart-complete:disabled:hover {\n",
              "    background-color: var(--disabled-bg-color);\n",
              "    fill: var(--disabled-fill-color);\n",
              "    box-shadow: none;\n",
              "  }\n",
              "\n",
              "  .colab-df-spinner {\n",
              "    border: 2px solid var(--fill-color);\n",
              "    border-color: transparent;\n",
              "    border-bottom-color: var(--fill-color);\n",
              "    animation:\n",
              "      spin 1s steps(1) infinite;\n",
              "  }\n",
              "\n",
              "  @keyframes spin {\n",
              "    0% {\n",
              "      border-color: transparent;\n",
              "      border-bottom-color: var(--fill-color);\n",
              "      border-left-color: var(--fill-color);\n",
              "    }\n",
              "    20% {\n",
              "      border-color: transparent;\n",
              "      border-left-color: var(--fill-color);\n",
              "      border-top-color: var(--fill-color);\n",
              "    }\n",
              "    30% {\n",
              "      border-color: transparent;\n",
              "      border-left-color: var(--fill-color);\n",
              "      border-top-color: var(--fill-color);\n",
              "      border-right-color: var(--fill-color);\n",
              "    }\n",
              "    40% {\n",
              "      border-color: transparent;\n",
              "      border-right-color: var(--fill-color);\n",
              "      border-top-color: var(--fill-color);\n",
              "    }\n",
              "    60% {\n",
              "      border-color: transparent;\n",
              "      border-right-color: var(--fill-color);\n",
              "    }\n",
              "    80% {\n",
              "      border-color: transparent;\n",
              "      border-right-color: var(--fill-color);\n",
              "      border-bottom-color: var(--fill-color);\n",
              "    }\n",
              "    90% {\n",
              "      border-color: transparent;\n",
              "      border-bottom-color: var(--fill-color);\n",
              "    }\n",
              "  }\n",
              "</style>\n",
              "\n",
              "  <script>\n",
              "    async function quickchart(key) {\n",
              "      const quickchartButtonEl =\n",
              "        document.querySelector('#' + key + ' button');\n",
              "      quickchartButtonEl.disabled = true;  // To prevent multiple clicks.\n",
              "      quickchartButtonEl.classList.add('colab-df-spinner');\n",
              "      try {\n",
              "        const charts = await google.colab.kernel.invokeFunction(\n",
              "            'suggestCharts', [key], {});\n",
              "      } catch (error) {\n",
              "        console.error('Error during call to suggestCharts:', error);\n",
              "      }\n",
              "      quickchartButtonEl.classList.remove('colab-df-spinner');\n",
              "      quickchartButtonEl.classList.add('colab-df-quickchart-complete');\n",
              "    }\n",
              "    (() => {\n",
              "      let quickchartButtonEl =\n",
              "        document.querySelector('#df-2730cffc-ed83-455b-85f0-ec3538179972 button');\n",
              "      quickchartButtonEl.style.display =\n",
              "        google.colab.kernel.accessAllowed ? 'block' : 'none';\n",
              "    })();\n",
              "  </script>\n",
              "</div>\n",
              "    </div>\n",
              "  </div>\n"
            ],
            "application/vnd.google.colaboratory.intrinsic+json": {
              "type": "dataframe",
              "variable_name": "df_performance",
              "summary": "{\n  \"name\": \"df_performance\",\n  \"rows\": 3,\n  \"fields\": [\n    {\n      \"column\": \"Mod\\u00e8les\",\n      \"properties\": {\n        \"dtype\": \"string\",\n        \"num_unique_values\": 3,\n        \"samples\": [\n          \"MLP\",\n          \"CNN\",\n          \"VGG 16 ImageNet\"\n        ],\n        \"semantic_type\": \"\",\n        \"description\": \"\"\n      }\n    },\n    {\n      \"column\": \"Test Loss\",\n      \"properties\": {\n        \"dtype\": \"number\",\n        \"std\": 0.5334878099469154,\n        \"min\": 0.650294303894043,\n        \"max\": 1.6738862991333008,\n        \"num_unique_values\": 3,\n        \"samples\": [\n          1.6738862991333008,\n          1.4229011535644531,\n          0.650294303894043\n        ],\n        \"semantic_type\": \"\",\n        \"description\": \"\"\n      }\n    },\n    {\n      \"column\": \"Test Accurancy\",\n      \"properties\": {\n        \"dtype\": \"number\",\n        \"std\": 0.17232555960604187,\n        \"min\": 0.4810126721858978,\n        \"max\": 0.8101266026496887,\n        \"num_unique_values\": 3,\n        \"samples\": [\n          0.4810126721858978,\n          0.5569620132446289,\n          0.8101266026496887\n        ],\n        \"semantic_type\": \"\",\n        \"description\": \"\"\n      }\n    }\n  ]\n}"
            }
          },
          "metadata": {},
          "execution_count": 28
        }
      ],
      "source": [
        "# Tableau des résultats\n",
        "\n",
        "result = {\n",
        "    \"Modèles\": [\n",
        "        \"MLP\", \"CNN\",\n",
        "        \"VGG 16 ImageNet\"],\n",
        "\n",
        "    \"Test Loss\": [\n",
        "        test_loss_mlp, test_loss_cnn,\n",
        "        test_loss_vgg],\n",
        "\n",
        "    \"Test Accuracy\": [\n",
        "        test_accuracy_mlp, test_accuracy_cnn,\n",
        "        test_accuracy_vgg]\n",
        "}\n",
        "\n",
        "\n",
        "df_performance = pd.DataFrame(result)\n",
        "df_performance"
      ]
    },
    {
      "cell_type": "markdown",
      "id": "M-mk9_uDa5Pj",
      "metadata": {
        "id": "M-mk9_uDa5Pj"
      },
      "source": [
        "## Hyperparamètre - Taux d'apprentissage"
      ]
    },
    {
      "cell_type": "markdown",
      "source": [
        "**Recherche d'Hyperparamètres:**\n",
        "\n",
        "La recherche d'hyperparamètres consiste à trouver la combinaison optimale\n",
        "d'hyperparamètres qui améliore les performances d'un modèle d'apprentissage\n",
        "automatique. Une recherche manuelle implique d'ajuster et de tester\n",
        "systématiquement ces hyperparamètres jusqu'à obtenir les meilleurs résultats.\n",
        "\n",
        "**Learning Rate:**\n",
        "\n",
        "Le learning rate est un hyperparamètre crucial qui détermine la taille des\n",
        "pas effectués lors de la mise à jour des poids du réseau pendant\n",
        "l'apprentissage. Un learning rate trop élevé peut conduire à un\n",
        "apprentissage instable, tandis qu'un taux trop faible peut rendre\n",
        "l'apprentissage très lent et potentiellement aboutir à un minimum local."
      ],
      "metadata": {
        "id": "OFtHfeEIcLne"
      },
      "id": "OFtHfeEIcLne"
    },
    {
      "cell_type": "code",
      "execution_count": null,
      "id": "0jsTfsbG5foJ",
      "metadata": {
        "id": "0jsTfsbG5foJ"
      },
      "outputs": [],
      "source": [
        "def create_model(trial):\n",
        "    vgg16_base = VGG16(weights='imagenet', include_top=False, input_shape=(224, 224, 3))\n",
        "\n",
        "    for layer in vgg16_base.layers:\n",
        "        layer.trainable = False\n",
        "\n",
        "    model = Sequential([\n",
        "        vgg16_base,\n",
        "        Flatten(),\n",
        "        Dense(128, activation='relu'),\n",
        "        BatchNormalization(),\n",
        "        Dropout(0.5),\n",
        "        Dense(7, activation='softmax')\n",
        "    ])\n",
        "\n",
        "    lr = trial.suggest_float('lr', 1e-5, 1e-1, log=True)\n",
        "    model.compile(optimizer=Adam(lr), loss='categorical_crossentropy', metrics=['accuracy'])\n",
        "    return model"
      ]
    },
    {
      "cell_type": "code",
      "source": [
        "def objective(trial):\n",
        "    model = create_model(trial)\n",
        "    sample_size = min(500, X_train.shape[0])\n",
        "    subset_index = np.random.choice(X_train.shape[0], sample_size, replace=False)\n",
        "    X_subset = X_train[subset_index]\n",
        "    y_subset = y_train[subset_index]\n",
        "\n",
        "    # Entraînement avec un nombre réduit d'époques et un sous-ensemble de données\n",
        "    model.fit(X_subset, y_subset, validation_split=0.1, epochs=10, batch_size=32, verbose=0)\n",
        "\n",
        "    # Évaluation sur le jeu de test\n",
        "    loss, accuracy = model.evaluate(X_test, y_test, verbose=0)\n",
        "    return accuracy\n",
        "\n",
        "study = optuna.create_study(direction='maximize')\n",
        "study.optimize(objective, n_trials=5)\n",
        "print(\"Meilleur taux d'apprentissage:\", study.best_trial.params['lr'])"
      ],
      "metadata": {
        "colab": {
          "base_uri": "https://localhost:8080/"
        },
        "id": "YSp3ceoLqLbr",
        "outputId": "568e2b7b-b8b1-4851-f7df-9745eea07834"
      },
      "id": "YSp3ceoLqLbr",
      "execution_count": null,
      "outputs": [
        {
          "output_type": "stream",
          "name": "stderr",
          "text": [
            "[I 2024-04-23 06:46:25,830] A new study created in memory with name: no-name-dfd170f9-69f6-4013-a73c-1fc0018993af\n",
            "[I 2024-04-23 06:47:09,823] Trial 0 finished with value: 0.7341772317886353 and parameters: {'lr': 3.0178075865291915e-05}. Best is trial 0 with value: 0.7341772317886353.\n",
            "[I 2024-04-23 06:47:54,688] Trial 1 finished with value: 0.8354430198669434 and parameters: {'lr': 0.013092179865461146}. Best is trial 1 with value: 0.8354430198669434.\n",
            "[I 2024-04-23 06:48:18,934] Trial 2 finished with value: 0.7911392450332642 and parameters: {'lr': 0.08668465921889472}. Best is trial 1 with value: 0.8354430198669434.\n",
            "[I 2024-04-23 06:49:03,016] Trial 3 finished with value: 0.8164557218551636 and parameters: {'lr': 0.0009738532399991537}. Best is trial 1 with value: 0.8354430198669434.\n",
            "[I 2024-04-23 06:49:47,639] Trial 4 finished with value: 0.746835470199585 and parameters: {'lr': 2.5687448530067955e-05}. Best is trial 1 with value: 0.8354430198669434.\n"
          ]
        },
        {
          "output_type": "stream",
          "name": "stdout",
          "text": [
            "Meilleur taux d'apprentissage: 0.013092179865461146\n"
          ]
        }
      ]
    },
    {
      "cell_type": "markdown",
      "id": "eSZYK_BT3WKG",
      "metadata": {
        "id": "eSZYK_BT3WKG"
      },
      "source": [
        "## Data Augmentation"
      ]
    },
    {
      "cell_type": "markdown",
      "source": [
        "La data augmentation est une technique pour augmenter la diversité des données\n",
        "d'entraînement sans collecter de nouveaux échantillons. Elle implique\n",
        "l'application de transformations comme la rotation, le zoom, le décalage ou\n",
        "le retournement sur les images existantes. Cela aide à prévenir le surajustement\n",
        "et améliore la généralisation du modèle sur des données non vues."
      ],
      "metadata": {
        "id": "E-tBxMyZcgo2"
      },
      "id": "E-tBxMyZcgo2"
    },
    {
      "cell_type": "code",
      "source": [
        "df['new_image_path'] = df['image_path'].apply(lambda x: os.path.basename(x))"
      ],
      "metadata": {
        "id": "kPWe5-rEsmaM"
      },
      "id": "kPWe5-rEsmaM",
      "execution_count": null,
      "outputs": []
    },
    {
      "cell_type": "code",
      "source": [
        "# Meilleur taux d'apprentissage\n",
        "best_lr = study.best_trial.params['lr']\n",
        "\n",
        "\n",
        "# Configuration de l'augmentation des données\n",
        "train_datagen = ImageDataGenerator(\n",
        "    rescale=1./255,\n",
        "    rotation_range=20,\n",
        "    width_shift_range=0.1,\n",
        "    height_shift_range=0.1,\n",
        "    shear_range=0.1,\n",
        "    zoom_range=0.1,\n",
        "    horizontal_flip=True,\n",
        "    fill_mode='nearest'\n",
        ")\n",
        "\n",
        "# Création du générateur de données d'entraînement\n",
        "train_generator = train_datagen.flow_from_dataframe(\n",
        "    dataframe=df,\n",
        "    directory='/content/drive/My Drive/Flipkart/Images',\n",
        "    x_col='new_image_path',\n",
        "    y_col='category_product',\n",
        "    target_size=(224, 224),\n",
        "    batch_size=32,\n",
        "    class_mode='categorical'\n",
        "\n",
        ")\n",
        "\n",
        "# Compilation du modèle avec le meilleur taux d'apprentissage\n",
        "model_vgg.compile(optimizer=Adam(learning_rate=best_lr), loss='categorical_crossentropy', metrics=['accuracy'])"
      ],
      "metadata": {
        "colab": {
          "base_uri": "https://localhost:8080/"
        },
        "id": "VLBpxIRlAPXe",
        "outputId": "81a178d6-0eb6-4268-ef67-c134973fe04a"
      },
      "id": "VLBpxIRlAPXe",
      "execution_count": null,
      "outputs": [
        {
          "output_type": "stream",
          "name": "stdout",
          "text": [
            "Found 1050 validated image filenames belonging to 7 classes.\n"
          ]
        }
      ]
    },
    {
      "cell_type": "code",
      "execution_count": null,
      "id": "yNxF_p9y3XdB",
      "metadata": {
        "id": "yNxF_p9y3XdB",
        "colab": {
          "base_uri": "https://localhost:8080/"
        },
        "outputId": "f3c0446e-acf0-442a-b91f-4281cda7498c"
      },
      "outputs": [
        {
          "output_type": "stream",
          "name": "stdout",
          "text": [
            "Epoch 1/10\n",
            "23/23 [==============================] - 6s 188ms/step - loss: 0.8815 - accuracy: 0.7293 - val_loss: 1.1124 - val_accuracy: 0.8217\n",
            "Epoch 2/10\n",
            "23/23 [==============================] - 4s 159ms/step - loss: 0.3572 - accuracy: 0.8857 - val_loss: 0.8003 - val_accuracy: 0.8344\n",
            "Epoch 3/10\n",
            "23/23 [==============================] - 4s 159ms/step - loss: 0.1595 - accuracy: 0.9592 - val_loss: 0.6659 - val_accuracy: 0.8344\n",
            "Epoch 4/10\n",
            "23/23 [==============================] - 4s 160ms/step - loss: 0.0825 - accuracy: 0.9755 - val_loss: 0.7538 - val_accuracy: 0.8471\n",
            "Epoch 5/10\n",
            "23/23 [==============================] - 4s 193ms/step - loss: 0.0502 - accuracy: 0.9864 - val_loss: 0.7450 - val_accuracy: 0.8344\n",
            "Epoch 6/10\n",
            "23/23 [==============================] - 4s 161ms/step - loss: 0.0341 - accuracy: 0.9905 - val_loss: 0.6963 - val_accuracy: 0.8535\n",
            "Epoch 7/10\n",
            "23/23 [==============================] - 4s 160ms/step - loss: 0.0255 - accuracy: 0.9918 - val_loss: 0.6851 - val_accuracy: 0.8408\n",
            "Epoch 8/10\n",
            "23/23 [==============================] - 4s 160ms/step - loss: 0.0199 - accuracy: 0.9959 - val_loss: 0.7130 - val_accuracy: 0.8280\n",
            "Epoch 9/10\n",
            "23/23 [==============================] - 4s 158ms/step - loss: 0.0113 - accuracy: 0.9986 - val_loss: 0.7606 - val_accuracy: 0.8471\n",
            "Epoch 10/10\n",
            "23/23 [==============================] - 4s 156ms/step - loss: 0.0093 - accuracy: 0.9986 - val_loss: 0.7457 - val_accuracy: 0.8471\n",
            "Epoch 1/10\n",
            "33/33 [==============================] - 34s 986ms/step - loss: 1.3018 - accuracy: 0.6476 - val_loss: 0.4661 - val_accuracy: 0.8471\n",
            "Epoch 2/10\n",
            "33/33 [==============================] - 30s 914ms/step - loss: 0.7739 - accuracy: 0.7419 - val_loss: 0.4897 - val_accuracy: 0.8726\n",
            "Epoch 3/10\n",
            "33/33 [==============================] - 31s 931ms/step - loss: 0.6415 - accuracy: 0.7933 - val_loss: 0.5364 - val_accuracy: 0.9045\n",
            "Epoch 4/10\n",
            "33/33 [==============================] - 30s 896ms/step - loss: 0.5264 - accuracy: 0.8219 - val_loss: 0.5212 - val_accuracy: 0.9045\n",
            "Epoch 5/10\n",
            "33/33 [==============================] - 30s 924ms/step - loss: 0.4636 - accuracy: 0.8514 - val_loss: 0.6191 - val_accuracy: 0.9045\n",
            "Epoch 6/10\n",
            "33/33 [==============================] - 30s 900ms/step - loss: 0.4389 - accuracy: 0.8543 - val_loss: 0.5921 - val_accuracy: 0.9236\n",
            "Epoch 7/10\n",
            "33/33 [==============================] - 31s 935ms/step - loss: 0.4038 - accuracy: 0.8619 - val_loss: 0.6520 - val_accuracy: 0.9108\n",
            "Epoch 8/10\n",
            "33/33 [==============================] - 30s 920ms/step - loss: 0.3261 - accuracy: 0.8895 - val_loss: 0.6530 - val_accuracy: 0.9363\n",
            "Epoch 9/10\n",
            "33/33 [==============================] - 30s 904ms/step - loss: 0.3219 - accuracy: 0.8829 - val_loss: 0.8537 - val_accuracy: 0.9427\n",
            "Epoch 10/10\n",
            "33/33 [==============================] - 31s 937ms/step - loss: 0.2920 - accuracy: 0.9038 - val_loss: 0.7875 - val_accuracy: 0.9427\n"
          ]
        }
      ],
      "source": [
        "# Entraînement du modèle sans augmentation des données\n",
        "history_no_aug = model_vgg.fit(X_train, y_train, epochs=10, validation_data=(X_val, y_val))\n",
        "\n",
        "# Entraînement du modèle avec augmentation des données\n",
        "history_aug = model_vgg.fit(\n",
        "    train_generator,\n",
        "    steps_per_epoch=len(train_generator),\n",
        "    epochs=10,\n",
        "    validation_data=(X_val, y_val)\n",
        ")"
      ]
    },
    {
      "cell_type": "code",
      "source": [
        "# Évaluation du modèle sur l'ensemble de test\n",
        "test_loss_vgg_aug, test_accuracy_vgg_aug =  model_vgg.evaluate(X_test, y_test)\n",
        "print(f\"Score du test : test_loss = {test_loss_vgg_aug:.4f}, test_accuracy = {test_accuracy_vgg_aug:.4f}\")"
      ],
      "metadata": {
        "colab": {
          "base_uri": "https://localhost:8080/"
        },
        "id": "6Ro0KcWtAxZM",
        "outputId": "dbdcfaaa-abbf-4853-f2c8-e9cb246c09a9"
      },
      "id": "6Ro0KcWtAxZM",
      "execution_count": null,
      "outputs": [
        {
          "output_type": "stream",
          "name": "stdout",
          "text": [
            "5/5 [==============================] - 1s 124ms/step - loss: 1.0345 - accuracy: 0.9114\n",
            "Score du test : test_loss = 1.0345, test_accuracy = 0.9114\n"
          ]
        }
      ]
    },
    {
      "cell_type": "code",
      "source": [
        "y_pred = model_vgg.predict(X_test)\n",
        "y_pred_classes = np.argmax(y_pred, axis=1)\n",
        "y_true = np.argmax(y_test, axis=1)\n",
        "\n",
        "# Rapport de classification\n",
        "print(classification_report(y_true, y_pred_classes))"
      ],
      "metadata": {
        "colab": {
          "base_uri": "https://localhost:8080/"
        },
        "id": "tdMUd1fiqGQp",
        "outputId": "de6ff9d2-5a8f-4a57-85ac-d965eeed6646"
      },
      "id": "tdMUd1fiqGQp",
      "execution_count": null,
      "outputs": [
        {
          "output_type": "stream",
          "name": "stdout",
          "text": [
            "5/5 [==============================] - 1s 121ms/step\n",
            "              precision    recall  f1-score   support\n",
            "\n",
            "           0       0.89      0.74      0.81        23\n",
            "           1       0.95      0.82      0.88        22\n",
            "           2       0.85      1.00      0.92        23\n",
            "           3       0.92      1.00      0.96        23\n",
            "           4       0.87      0.87      0.87        23\n",
            "           5       0.91      0.95      0.93        22\n",
            "           6       1.00      1.00      1.00        22\n",
            "\n",
            "    accuracy                           0.91       158\n",
            "   macro avg       0.91      0.91      0.91       158\n",
            "weighted avg       0.91      0.91      0.91       158\n",
            "\n"
          ]
        }
      ]
    },
    {
      "cell_type": "code",
      "source": [
        "# Matrice de confusion\n",
        "print(confusion_matrix(y_true, y_pred_classes))"
      ],
      "metadata": {
        "colab": {
          "base_uri": "https://localhost:8080/"
        },
        "id": "iIElC6wRqMG3",
        "outputId": "f2931266-e23d-459c-de57-a2cc08998be8"
      },
      "id": "iIElC6wRqMG3",
      "execution_count": null,
      "outputs": [
        {
          "output_type": "stream",
          "name": "stdout",
          "text": [
            "[[17  1  1  0  3  1  0]\n",
            " [ 0 18  1  2  0  1  0]\n",
            " [ 0  0 23  0  0  0  0]\n",
            " [ 0  0  0 23  0  0  0]\n",
            " [ 2  0  1  0 20  0  0]\n",
            " [ 0  0  1  0  0 21  0]\n",
            " [ 0  0  0  0  0  0 22]]\n"
          ]
        }
      ]
    },
    {
      "cell_type": "code",
      "execution_count": null,
      "id": "L5r9hSh28LFK",
      "metadata": {
        "id": "L5r9hSh28LFK"
      },
      "outputs": [],
      "source": [
        "# Fonction pour tracer l'historique de l'entraînement\n",
        "def plot_history(histories, key='accuracy'):\n",
        "    plt.figure(figsize=(15, 5))\n",
        "    for name, history in histories:\n",
        "        val = plt.plot(history.epoch, history.history['val_'+key],\n",
        "                       '--', label=name.title()+' Val')\n",
        "        plt.plot(history.epoch, history.history[key], color=val[0].get_color(),\n",
        "                 label=name.title()+' Train')\n",
        "\n",
        "    plt.xlabel('Epochs')\n",
        "    plt.ylabel(key.replace('_', ' ').title())\n",
        "    plt.legend()\n",
        "\n",
        "    plt.xlim([0, max(history.epoch)])"
      ]
    },
    {
      "cell_type": "code",
      "execution_count": null,
      "id": "6aqcEbLU8OE5",
      "metadata": {
        "id": "6aqcEbLU8OE5",
        "colab": {
          "base_uri": "https://localhost:8080/",
          "height": 415
        },
        "outputId": "ff5f0120-6b8d-46a6-b266-94114ed99a9e"
      },
      "outputs": [
        {
          "output_type": "display_data",
          "data": {
            "text/plain": [
              "<Figure size 1500x500 with 1 Axes>"
            ],
            "image/png": "[encoded data removed]"
          },
          "metadata": {}
        }
      ],
      "source": [
        "# Graphique\n",
        "plot_history([('no_aug', history_no_aug), ('aug', history_aug)])\n",
        "plt.show()"
      ]
    },
    {
      "cell_type": "code",
      "source": [
        "# Tableau des résultats\n",
        "\n",
        "result = {\n",
        "    \"Modèles\": [\n",
        "        \"MLP\", \"CNN\",\n",
        "        \"VGG 16 ImageNet\",\n",
        "        \"VGG 16 ImageNet + Data Aug\"],\n",
        "\n",
        "    \"Test Loss\": [\n",
        "        test_loss_mlp, test_loss_cnn,\n",
        "        test_loss_vgg,test_loss_vgg_aug],\n",
        "\n",
        "    \"Test Accuracy\": [\n",
        "        test_accuracy_mlp, test_accuracy_cnn,\n",
        "        test_accuracy_vgg,test_accuracy_vgg_aug]\n",
        "}\n",
        "\n",
        "\n",
        "df_performance = pd.DataFrame(result)\n",
        "df_performance"
      ],
      "metadata": {
        "colab": {
          "base_uri": "https://localhost:8080/",
          "height": 175
        },
        "id": "75vzv5Y5-TkT",
        "outputId": "032c5992-bebb-4519-aa05-a13b3a073c39"
      },
      "id": "75vzv5Y5-TkT",
      "execution_count": null,
      "outputs": [
        {
          "output_type": "execute_result",
          "data": {
            "text/plain": [
              "                      Modèles  Test Loss  Test Accurancy\n",
              "0                         MLP   1.673886        0.481013\n",
              "1                         CNN   1.422901        0.556962\n",
              "2             VGG 16 ImageNet   0.650294        0.810127\n",
              "3  VGG 16 ImageNet + Data Aug   1.034525        0.911392"
            ],
            "text/html": [
              "\n",
              "  <div id=\"df-89f85bca-fd9d-421b-aaa9-8874f5475392\" class=\"colab-df-container\">\n",
              "    <div>\n",
              "<style scoped>\n",
              "    .dataframe tbody tr th:only-of-type {\n",
              "        vertical-align: middle;\n",
              "    }\n",
              "\n",
              "    .dataframe tbody tr th {\n",
              "        vertical-align: top;\n",
              "    }\n",
              "\n",
              "    .dataframe thead th {\n",
              "        text-align: right;\n",
              "    }\n",
              "</style>\n",
              "<table border=\"1\" class=\"dataframe\">\n",
              "  <thead>\n",
              "    <tr style=\"text-align: right;\">\n",
              "      <th></th>\n",
              "      <th>Modèles</th>\n",
              "      <th>Test Loss</th>\n",
              "      <th>Test Accurancy</th>\n",
              "    </tr>\n",
              "  </thead>\n",
              "  <tbody>\n",
              "    <tr>\n",
              "      <th>0</th>\n",
              "      <td>MLP</td>\n",
              "      <td>1.673886</td>\n",
              "      <td>0.481013</td>\n",
              "    </tr>\n",
              "    <tr>\n",
              "      <th>1</th>\n",
              "      <td>CNN</td>\n",
              "      <td>1.422901</td>\n",
              "      <td>0.556962</td>\n",
              "    </tr>\n",
              "    <tr>\n",
              "      <th>2</th>\n",
              "      <td>VGG 16 ImageNet</td>\n",
              "      <td>0.650294</td>\n",
              "      <td>0.810127</td>\n",
              "    </tr>\n",
              "    <tr>\n",
              "      <th>3</th>\n",
              "      <td>VGG 16 ImageNet + Data Aug</td>\n",
              "      <td>1.034525</td>\n",
              "      <td>0.911392</td>\n",
              "    </tr>\n",
              "  </tbody>\n",
              "</table>\n",
              "</div>\n",
              "    <div class=\"colab-df-buttons\">\n",
              "\n",
              "  <div class=\"colab-df-container\">\n",
              "    <button class=\"colab-df-convert\" onclick=\"convertToInteractive('df-89f85bca-fd9d-421b-aaa9-8874f5475392')\"\n",
              "            title=\"Convert this dataframe to an interactive table.\"\n",
              "            style=\"display:none;\">\n",
              "\n",
              "  <svg xmlns=\"http://www.w3.org/2000/svg\" height=\"24px\" viewBox=\"0 -960 960 960\">\n",
              "    <path d=\"M120-120v-720h720v720H120Zm60-500h600v-160H180v160Zm220 220h160v-160H400v160Zm0 220h160v-160H400v160ZM180-400h160v-160H180v160Zm440 0h160v-160H620v160ZM180-180h160v-160H180v160Zm440 0h160v-160H620v160Z\"/>\n",
              "  </svg>\n",
              "    </button>\n",
              "\n",
              "  <style>\n",
              "    .colab-df-container {\n",
              "      display:flex;\n",
              "      gap: 12px;\n",
              "    }\n",
              "\n",
              "    .colab-df-convert {\n",
              "      background-color: #E8F0FE;\n",
              "      border: none;\n",
              "      border-radius: 50%;\n",
              "      cursor: pointer;\n",
              "      display: none;\n",
              "      fill: #1967D2;\n",
              "      height: 32px;\n",
              "      padding: 0 0 0 0;\n",
              "      width: 32px;\n",
              "    }\n",
              "\n",
              "    .colab-df-convert:hover {\n",
              "      background-color: #E2EBFA;\n",
              "      box-shadow: 0px 1px 2px rgba(60, 64, 67, 0.3), 0px 1px 3px 1px rgba(60, 64, 67, 0.15);\n",
              "      fill: #174EA6;\n",
              "    }\n",
              "\n",
              "    .colab-df-buttons div {\n",
              "      margin-bottom: 4px;\n",
              "    }\n",
              "\n",
              "    [theme=dark] .colab-df-convert {\n",
              "      background-color: #3B4455;\n",
              "      fill: #D2E3FC;\n",
              "    }\n",
              "\n",
              "    [theme=dark] .colab-df-convert:hover {\n",
              "      background-color: #434B5C;\n",
              "      box-shadow: 0px 1px 3px 1px rgba(0, 0, 0, 0.15);\n",
              "      filter: drop-shadow(0px 1px 2px rgba(0, 0, 0, 0.3));\n",
              "      fill: #FFFFFF;\n",
              "    }\n",
              "  </style>\n",
              "\n",
              "    <script>\n",
              "      const buttonEl =\n",
              "        document.querySelector('#df-89f85bca-fd9d-421b-aaa9-8874f5475392 button.colab-df-convert');\n",
              "      buttonEl.style.display =\n",
              "        google.colab.kernel.accessAllowed ? 'block' : 'none';\n",
              "\n",
              "      async function convertToInteractive(key) {\n",
              "        const element = document.querySelector('#df-89f85bca-fd9d-421b-aaa9-8874f5475392');\n",
              "        const dataTable =\n",
              "          await google.colab.kernel.invokeFunction('convertToInteractive',\n",
              "                                                    [key], {});\n",
              "        if (!dataTable) return;\n",
              "\n",
              "        const docLinkHtml = 'Like what you see? Visit the ' +\n",
              "          '<a target=\"_blank\" href=https://colab.research.google.com/notebooks/data_table.ipynb>data table notebook</a>'\n",
              "          + ' to learn more about interactive tables.';\n",
              "        element.innerHTML = '';\n",
              "        dataTable['output_type'] = 'display_data';\n",
              "        await google.colab.output.renderOutput(dataTable, element);\n",
              "        const docLink = document.createElement('div');\n",
              "        docLink.innerHTML = docLinkHtml;\n",
              "        element.appendChild(docLink);\n",
              "      }\n",
              "    </script>\n",
              "  </div>\n",
              "\n",
              "\n",
              "<div id=\"df-a3af0bf2-595e-4208-bf1d-0cf98b7128d0\">\n",
              "  <button class=\"colab-df-quickchart\" onclick=\"quickchart('df-a3af0bf2-595e-4208-bf1d-0cf98b7128d0')\"\n",
              "            title=\"Suggest charts\"\n",
              "            style=\"display:none;\">\n",
              "\n",
              "<svg xmlns=\"http://www.w3.org/2000/svg\" height=\"24px\"viewBox=\"0 0 24 24\"\n",
              "     width=\"24px\">\n",
              "    <g>\n",
              "        <path d=\"M19 3H5c-1.1 0-2 .9-2 2v14c0 1.1.9 2 2 2h14c1.1 0 2-.9 2-2V5c0-1.1-.9-2-2-2zM9 17H7v-7h2v7zm4 0h-2V7h2v10zm4 0h-2v-4h2v4z\"/>\n",
              "    </g>\n",
              "</svg>\n",
              "  </button>\n",
              "\n",
              "<style>\n",
              "  .colab-df-quickchart {\n",
              "      --bg-color: #E8F0FE;\n",
              "      --fill-color: #1967D2;\n",
              "      --hover-bg-color: #E2EBFA;\n",
              "      --hover-fill-color: #174EA6;\n",
              "      --disabled-fill-color: #AAA;\n",
              "      --disabled-bg-color: #DDD;\n",
              "  }\n",
              "\n",
              "  [theme=dark] .colab-df-quickchart {\n",
              "      --bg-color: #3B4455;\n",
              "      --fill-color: #D2E3FC;\n",
              "      --hover-bg-color: #434B5C;\n",
              "      --hover-fill-color: #FFFFFF;\n",
              "      --disabled-bg-color: #3B4455;\n",
              "      --disabled-fill-color: #666;\n",
              "  }\n",
              "\n",
              "  .colab-df-quickchart {\n",
              "    background-color: var(--bg-color);\n",
              "    border: none;\n",
              "    border-radius: 50%;\n",
              "    cursor: pointer;\n",
              "    display: none;\n",
              "    fill: var(--fill-color);\n",
              "    height: 32px;\n",
              "    padding: 0;\n",
              "    width: 32px;\n",
              "  }\n",
              "\n",
              "  .colab-df-quickchart:hover {\n",
              "    background-color: var(--hover-bg-color);\n",
              "    box-shadow: 0 1px 2px rgba(60, 64, 67, 0.3), 0 1px 3px 1px rgba(60, 64, 67, 0.15);\n",
              "    fill: var(--button-hover-fill-color);\n",
              "  }\n",
              "\n",
              "  .colab-df-quickchart-complete:disabled,\n",
              "  .colab-df-quickchart-complete:disabled:hover {\n",
              "    background-color: var(--disabled-bg-color);\n",
              "    fill: var(--disabled-fill-color);\n",
              "    box-shadow: none;\n",
              "  }\n",
              "\n",
              "  .colab-df-spinner {\n",
              "    border: 2px solid var(--fill-color);\n",
              "    border-color: transparent;\n",
              "    border-bottom-color: var(--fill-color);\n",
              "    animation:\n",
              "      spin 1s steps(1) infinite;\n",
              "  }\n",
              "\n",
              "  @keyframes spin {\n",
              "    0% {\n",
              "      border-color: transparent;\n",
              "      border-bottom-color: var(--fill-color);\n",
              "      border-left-color: var(--fill-color);\n",
              "    }\n",
              "    20% {\n",
              "      border-color: transparent;\n",
              "      border-left-color: var(--fill-color);\n",
              "      border-top-color: var(--fill-color);\n",
              "    }\n",
              "    30% {\n",
              "      border-color: transparent;\n",
              "      border-left-color: var(--fill-color);\n",
              "      border-top-color: var(--fill-color);\n",
              "      border-right-color: var(--fill-color);\n",
              "    }\n",
              "    40% {\n",
              "      border-color: transparent;\n",
              "      border-right-color: var(--fill-color);\n",
              "      border-top-color: var(--fill-color);\n",
              "    }\n",
              "    60% {\n",
              "      border-color: transparent;\n",
              "      border-right-color: var(--fill-color);\n",
              "    }\n",
              "    80% {\n",
              "      border-color: transparent;\n",
              "      border-right-color: var(--fill-color);\n",
              "      border-bottom-color: var(--fill-color);\n",
              "    }\n",
              "    90% {\n",
              "      border-color: transparent;\n",
              "      border-bottom-color: var(--fill-color);\n",
              "    }\n",
              "  }\n",
              "</style>\n",
              "\n",
              "  <script>\n",
              "    async function quickchart(key) {\n",
              "      const quickchartButtonEl =\n",
              "        document.querySelector('#' + key + ' button');\n",
              "      quickchartButtonEl.disabled = true;  // To prevent multiple clicks.\n",
              "      quickchartButtonEl.classList.add('colab-df-spinner');\n",
              "      try {\n",
              "        const charts = await google.colab.kernel.invokeFunction(\n",
              "            'suggestCharts', [key], {});\n",
              "      } catch (error) {\n",
              "        console.error('Error during call to suggestCharts:', error);\n",
              "      }\n",
              "      quickchartButtonEl.classList.remove('colab-df-spinner');\n",
              "      quickchartButtonEl.classList.add('colab-df-quickchart-complete');\n",
              "    }\n",
              "    (() => {\n",
              "      let quickchartButtonEl =\n",
              "        document.querySelector('#df-a3af0bf2-595e-4208-bf1d-0cf98b7128d0 button');\n",
              "      quickchartButtonEl.style.display =\n",
              "        google.colab.kernel.accessAllowed ? 'block' : 'none';\n",
              "    })();\n",
              "  </script>\n",
              "</div>\n",
              "    </div>\n",
              "  </div>\n"
            ],
            "application/vnd.google.colaboratory.intrinsic+json": {
              "type": "dataframe",
              "variable_name": "df_performance",
              "summary": "{\n  \"name\": \"df_performance\",\n  \"rows\": 4,\n  \"fields\": [\n    {\n      \"column\": \"Mod\\u00e8les\",\n      \"properties\": {\n        \"dtype\": \"string\",\n        \"num_unique_values\": 4,\n        \"samples\": [\n          \"CNN\",\n          \"VGG 16 ImageNet + Data Aug\",\n          \"MLP\"\n        ],\n        \"semantic_type\": \"\",\n        \"description\": \"\"\n      }\n    },\n    {\n      \"column\": \"Test Loss\",\n      \"properties\": {\n        \"dtype\": \"number\",\n        \"std\": 0.44860040263760725,\n        \"min\": 0.650294303894043,\n        \"max\": 1.6738862991333008,\n        \"num_unique_values\": 4,\n        \"samples\": [\n          1.4229011535644531,\n          1.0345247983932495,\n          1.6738862991333008\n        ],\n        \"semantic_type\": \"\",\n        \"description\": \"\"\n      }\n    },\n    {\n      \"column\": \"Test Accurancy\",\n      \"properties\": {\n        \"dtype\": \"number\",\n        \"std\": 0.20397690747805106,\n        \"min\": 0.4810126721858978,\n        \"max\": 0.9113923907279968,\n        \"num_unique_values\": 4,\n        \"samples\": [\n          0.5569620132446289,\n          0.9113923907279968,\n          0.4810126721858978\n        ],\n        \"semantic_type\": \"\",\n        \"description\": \"\"\n      }\n    }\n  ]\n}"
            }
          },
          "metadata": {},
          "execution_count": 41
        }
      ]
    },
    {
      "cell_type": "markdown",
      "source": [
        "Les résultats montrent une progression nette dans les performances des modèles\n",
        "testés.  \n",
        "- Le MLP a montré une précision de base, tandis que le CNN a légèrement\n",
        "amélioré cette performance.  \n",
        "- Le VGG16 pré-entraîné sur ImageNet a fait un bond\n",
        "significatif en précision, démontrant l'efficacité du transfer learning.  \n",
        "- Cependant, c'est le VGG16 combiné avec la data augmentation qui a obtenu les\n",
        "meilleurs résultats, avec une précision de test impressionnante de 91.14%.   \n",
        "\n",
        "Cela souligne l'importance de la data augmentation pour améliorer la\n",
        "généralisation du modèle, en particulier lorsqu'il est combiné avec des\n",
        "modèles pré-entraînés puissants. La matrice de confusion pour ce dernier\n",
        "modèle indique une excellente capacité à distinguer entre les classes,\n",
        "avec des scores élevés de précision et de rappel.  \n",
        "\n",
        "En conclusion, le VGG16\n",
        "avec data augmentation se révèle être le plus performant pour la tâche de\n",
        "classification d'images dans cette série d'expériences."
      ],
      "metadata": {
        "id": "xFMzXlcadZXe"
      },
      "id": "xFMzXlcadZXe"
    }
  ],
  "metadata": {
    "colab": {
      "provenance": [],
      "toc_visible": true,
      "gpuType": "T4"
    },
    "kernelspec": {
      "display_name": "Python 3",
      "name": "python3"
    },
    "language_info": {
      "codemirror_mode": {
        "name": "ipython",
        "version": 3
      },
      "file_extension": ".py",
      "mimetype": "text/x-python",
      "name": "python",
      "nbconvert_exporter": "python",
      "pygments_lexer": "ipython3",
      "version": "3.11.5"
    },
    "toc": {
      "base_numbering": 1,
      "nav_menu": {},
      "number_sections": true,
      "sideBar": true,
      "skip_h1_title": false,
      "title_cell": "Table of Contents",
      "title_sidebar": "Contents",
      "toc_cell": false,
      "toc_position": {},
      "toc_section_display": true,
      "toc_window_display": false
    },
    "accelerator": "GPU"
  },
  "nbformat": 4,
  "nbformat_minor": 5
}